{
 "cells": [
  {
   "cell_type": "code",
   "execution_count": 2,
   "metadata": {},
   "outputs": [],
   "source": [
    "from nba_api.stats.static import teams\n",
    "import pandas as pd \n"
   ]
  },
  {
   "cell_type": "code",
   "execution_count": 3,
   "metadata": {},
   "outputs": [],
   "source": [
    "OKC_data  = teams.find_teams_by_full_name(\"Oklahoma City Thunder\")\n",
    "OKC_id = OKC_data[0]['id'] # 1610612760 team id \n",
    "\n",
    "PAC_data = teams.find_teams_by_full_name(\"Indiana Pacers\")\n",
    "PAC_id = PAC_data[0]['id'] # 1610612754 team id "
   ]
  },
  {
   "cell_type": "code",
   "execution_count": 4,
   "metadata": {},
   "outputs": [],
   "source": [
    "from nba_api.stats.endpoints import leaguegamefinder\n",
    "\n",
    "finder = leaguegamefinder.LeagueGameFinder(\n",
    "player_or_team_abbreviation= \"T\",\n",
    "team_id_nullable=1610612760,\n",
    "date_from_nullable=\"06/05/2025\",\n",
    "date_to_nullable=\"06/05/2025\"\n",
    ")\n",
    "\n",
    "g1 = finder.get_data_frames()[0] \n",
    "g1_id= g1[\"GAME_ID\"] #0042400401\t\n"
   ]
  },
  {
   "cell_type": "markdown",
   "metadata": {},
   "source": [
    "# Players Data"
   ]
  },
  {
   "cell_type": "code",
   "execution_count": 5,
   "metadata": {},
   "outputs": [],
   "source": [
    "from nba_api.stats.endpoints import boxscoretraditionalv2\n",
    "box = boxscoretraditionalv2.BoxScoreTraditionalV2(game_id=g1_id)\n",
    "players = box.player_stats.get_data_frame()\n",
    "players.to_csv(\"player_data.csv\")"
   ]
  },
  {
   "cell_type": "markdown",
   "metadata": {},
   "source": [
    "# Team Data"
   ]
  },
  {
   "cell_type": "code",
   "execution_count": 6,
   "metadata": {},
   "outputs": [],
   "source": [
    "teams = box.team_stats.get_data_frame()\n",
    "teams.to_csv(\"team_data.csv\")"
   ]
  },
  {
   "cell_type": "markdown",
   "metadata": {},
   "source": [
    "# Advanced player and team stats"
   ]
  },
  {
   "cell_type": "code",
   "execution_count": 7,
   "metadata": {},
   "outputs": [],
   "source": [
    "from nba_api.stats.endpoints import boxscoreadvancedv2\n",
    "adv_box = boxscoreadvancedv2.BoxScoreAdvancedV2(game_id=g1_id)\n",
    "adv_player_df = adv_box.player_stats.get_data_frame() #advanced player stats\n",
    "\n",
    "adv_team_df = adv_box.team_stats.get_data_frame()\n",
    "adv_team_df.to_csv(\"adv_team.csv\")#advanced team stats"
   ]
  },
  {
   "cell_type": "code",
   "execution_count": 8,
   "metadata": {},
   "outputs": [],
   "source": [
    "adv_player_df.to_csv(\"adv_players.csv\")"
   ]
  },
  {
   "cell_type": "markdown",
   "metadata": {},
   "source": [
    "# Play by play data"
   ]
  },
  {
   "cell_type": "code",
   "execution_count": 9,
   "metadata": {},
   "outputs": [],
   "source": [
    "from nba_api.stats.endpoints import playbyplayv2\n",
    "pbp = playbyplayv2.PlayByPlayV2(game_id=g1_id)\n",
    "pbp_df = pbp.get_data_frames()[0]\n",
    "pbp_df # play by play stats \n",
    "pbp_df.to_csv(\"plays.csv\")"
   ]
  },
  {
   "cell_type": "markdown",
   "metadata": {},
   "source": [
    "# Hustle stats"
   ]
  },
  {
   "cell_type": "code",
   "execution_count": 10,
   "metadata": {},
   "outputs": [],
   "source": [
    "from nba_api.stats.endpoints import BoxScoreHustleV2\n",
    "\n",
    "hustle = BoxScoreHustleV2(game_id=g1_id)\n",
    "hustle_df = hustle.get_data_frames()[0]\n",
    "hustle_df.to_csv(\"hustle.csv\")"
   ]
  },
  {
   "cell_type": "markdown",
   "metadata": {},
   "source": [
    "# Win Probability PBP"
   ]
  },
  {
   "cell_type": "code",
   "execution_count": 11,
   "metadata": {},
   "outputs": [],
   "source": [
    "from nba_api.stats.endpoints import WinProbabilityPBP\n",
    "\n",
    "w_pct_pbp = WinProbabilityPBP(game_id=g1_id,run_type=\"each second\")\n",
    "w_pct_pbp_df = w_pct_pbp.get_data_frames()[0]\n",
    "w_pct_pbp_df.to_csv(\"win_prob.csv\")"
   ]
  },
  {
   "cell_type": "code",
   "execution_count": 12,
   "metadata": {},
   "outputs": [],
   "source": [
    "from nba_api.stats.endpoints import CommonTeamRoster, ShotChartDetail\n",
    "\n",
    "team_id     = PAC_id        \n",
    "season      = '2024-25'            # full season string\n",
    "season_type = 'Playoffs'           # 'Regular Season' | 'Pre Season' | 'Playoffs' | 'All Star'\n",
    "game_id     = g1_id        \n",
    "# ────────────────────────────────────────────────────────────────────────────────\n",
    "\n",
    "# 1. Fetch the team’s roster for the season\n",
    "roster = CommonTeamRoster(team_id=team_id, season=season)\n",
    "roster_df = roster.get_data_frames()[0]\n",
    "player_ids = roster_df['PLAYER_ID'].tolist()\n",
    "\n",
    "# 2. Loop through each player and pull their shot chart detail for that game\n",
    "shots_list = []\n",
    "for pid in player_ids:\n",
    "    shot_detail = ShotChartDetail(\n",
    "        context_measure_simple   = 'PTS',\n",
    "        last_n_games             = 0,\n",
    "        league_id                = '00',\n",
    "        season_type_all_star     = season_type,\n",
    "        season_nullable          = season,\n",
    "        team_id                  = 0,\n",
    "        player_id                = pid,\n",
    "        game_id_nullable         = game_id,\n",
    "        date_from_nullable       = '06/05/2025',\n",
    "        date_to_nullable         = '06/05/2025',\n",
    "        game_segment_nullable    = '',\n",
    "        period                   = 0,\n",
    "        outcome_nullable         = '',\n",
    "        location_nullable        = '',\n",
    "        month                    = 0,\n",
    "        vs_conference_nullable   = '',\n",
    "        vs_division_nullable     = '',\n",
    "        opponent_team_id         = 0,\n",
    "        rookie_year_nullable     = '',\n",
    "        season_segment_nullable  = '',\n",
    "        start_period_nullable    = '',\n",
    "        end_period_nullable      = '',\n",
    "        start_range_nullable     = '',\n",
    "        end_range_nullable       = '',\n",
    "        range_type_nullable      = '',\n",
    "        point_diff_nullable      = '',\n",
    "        position_nullable        = '',\n",
    "        player_position_nullable = ''\n",
    "    )\n",
    "    # [0] = LeagueAverages, [1] = Shot_Chart_Detail\n",
    "    _, df_shots = shot_detail.get_data_frames()\n",
    "    if not df_shots.empty:\n",
    "        shots_list.append(df_shots)\n",
    "team_shot_detail_df = pd.concat(shots_list, ignore_index=True)"
   ]
  },
  {
   "cell_type": "markdown",
   "metadata": {},
   "source": [
    "# Four Factors"
   ]
  },
  {
   "cell_type": "code",
   "execution_count": 13,
   "metadata": {},
   "outputs": [],
   "source": [
    "from nba_api.stats.endpoints import boxscorefourfactorsv2\n",
    "start_period = 1             # period to start (1 = Q1)\n",
    "end_period   = 4             # period to end (4 = Q4; use 5 for OT if needed)\n",
    "range_type   = 0             # 0 = entire period range\n",
    "start_range  = 0             # seconds into period to start (0 = beginning)\n",
    "end_range    = 0             # seconds into period to end (0 = full period)\n",
    "\n",
    "four_factors = boxscorefourfactorsv2.BoxScoreFourFactorsV2(\n",
    "    game_id    = g1_id,\n",
    "    start_period = start_period,\n",
    "    end_period   = end_period,\n",
    "    range_type   = range_type,\n",
    "    start_range  = start_range,\n",
    "    end_range    = end_range\n",
    ")\n",
    "\n",
    "\n",
    "players_four_factors, teams_four_factors = four_factors.get_data_frames()\n",
    "\n",
    "players_four_factors.to_csv(\"players_four_factors.csv\")"
   ]
  },
  {
   "cell_type": "code",
   "execution_count": 14,
   "metadata": {},
   "outputs": [],
   "source": [
    "teams_four_factors.to_csv(\"teams_four_factors.csv\")"
   ]
  },
  {
   "cell_type": "code",
   "execution_count": 15,
   "metadata": {},
   "outputs": [
    {
     "data": {
      "application/vnd.microsoft.datawrangler.viewer.v0+json": {
       "columns": [
        {
         "name": "index",
         "rawType": "int64",
         "type": "integer"
        },
        {
         "name": "GAME_ID",
         "rawType": "object",
         "type": "string"
        },
        {
         "name": "TEAM_ID",
         "rawType": "int64",
         "type": "integer"
        },
        {
         "name": "TEAM_NAME",
         "rawType": "object",
         "type": "string"
        },
        {
         "name": "TEAM_ABBREVIATION",
         "rawType": "object",
         "type": "string"
        },
        {
         "name": "TEAM_CITY",
         "rawType": "object",
         "type": "string"
        },
        {
         "name": "MIN",
         "rawType": "object",
         "type": "string"
        },
        {
         "name": "EFG_PCT",
         "rawType": "float64",
         "type": "float"
        },
        {
         "name": "FTA_RATE",
         "rawType": "float64",
         "type": "float"
        },
        {
         "name": "TM_TOV_PCT",
         "rawType": "float64",
         "type": "float"
        },
        {
         "name": "OREB_PCT",
         "rawType": "float64",
         "type": "float"
        },
        {
         "name": "OPP_EFG_PCT",
         "rawType": "float64",
         "type": "float"
        },
        {
         "name": "OPP_FTA_RATE",
         "rawType": "float64",
         "type": "float"
        },
        {
         "name": "OPP_TOV_PCT",
         "rawType": "float64",
         "type": "float"
        },
        {
         "name": "OPP_OREB_PCT",
         "rawType": "float64",
         "type": "float"
        }
       ],
       "ref": "a5858c7c-7218-41a2-b0a8-fc260d303f8e",
       "rows": [
        [
         "0",
         "0042400401",
         "1610612760",
         "Thunder",
         "OKC",
         "Oklahoma City",
         "240.000000:00",
         "0.454",
         "0.245",
         "0.066",
         "0.164",
         "0.585",
         "0.256",
         "0.242",
         "0.348"
        ],
        [
         "1",
         "0042400401",
         "1610612754",
         "Pacers",
         "IND",
         "Indiana",
         "240.000000:00",
         "0.585",
         "0.256",
         "0.242",
         "0.283",
         "0.454",
         "0.245",
         "0.066",
         "0.262"
        ]
       ],
       "shape": {
        "columns": 14,
        "rows": 2
       }
      },
      "text/html": [
       "<div>\n",
       "<style scoped>\n",
       "    .dataframe tbody tr th:only-of-type {\n",
       "        vertical-align: middle;\n",
       "    }\n",
       "\n",
       "    .dataframe tbody tr th {\n",
       "        vertical-align: top;\n",
       "    }\n",
       "\n",
       "    .dataframe thead th {\n",
       "        text-align: right;\n",
       "    }\n",
       "</style>\n",
       "<table border=\"1\" class=\"dataframe\">\n",
       "  <thead>\n",
       "    <tr style=\"text-align: right;\">\n",
       "      <th></th>\n",
       "      <th>GAME_ID</th>\n",
       "      <th>TEAM_ID</th>\n",
       "      <th>TEAM_NAME</th>\n",
       "      <th>TEAM_ABBREVIATION</th>\n",
       "      <th>TEAM_CITY</th>\n",
       "      <th>MIN</th>\n",
       "      <th>EFG_PCT</th>\n",
       "      <th>FTA_RATE</th>\n",
       "      <th>TM_TOV_PCT</th>\n",
       "      <th>OREB_PCT</th>\n",
       "      <th>OPP_EFG_PCT</th>\n",
       "      <th>OPP_FTA_RATE</th>\n",
       "      <th>OPP_TOV_PCT</th>\n",
       "      <th>OPP_OREB_PCT</th>\n",
       "    </tr>\n",
       "  </thead>\n",
       "  <tbody>\n",
       "    <tr>\n",
       "      <th>0</th>\n",
       "      <td>0042400401</td>\n",
       "      <td>1610612760</td>\n",
       "      <td>Thunder</td>\n",
       "      <td>OKC</td>\n",
       "      <td>Oklahoma City</td>\n",
       "      <td>240.000000:00</td>\n",
       "      <td>0.454</td>\n",
       "      <td>0.245</td>\n",
       "      <td>0.066</td>\n",
       "      <td>0.164</td>\n",
       "      <td>0.585</td>\n",
       "      <td>0.256</td>\n",
       "      <td>0.242</td>\n",
       "      <td>0.348</td>\n",
       "    </tr>\n",
       "    <tr>\n",
       "      <th>1</th>\n",
       "      <td>0042400401</td>\n",
       "      <td>1610612754</td>\n",
       "      <td>Pacers</td>\n",
       "      <td>IND</td>\n",
       "      <td>Indiana</td>\n",
       "      <td>240.000000:00</td>\n",
       "      <td>0.585</td>\n",
       "      <td>0.256</td>\n",
       "      <td>0.242</td>\n",
       "      <td>0.283</td>\n",
       "      <td>0.454</td>\n",
       "      <td>0.245</td>\n",
       "      <td>0.066</td>\n",
       "      <td>0.262</td>\n",
       "    </tr>\n",
       "  </tbody>\n",
       "</table>\n",
       "</div>"
      ],
      "text/plain": [
       "      GAME_ID     TEAM_ID TEAM_NAME TEAM_ABBREVIATION      TEAM_CITY  \\\n",
       "0  0042400401  1610612760   Thunder               OKC  Oklahoma City   \n",
       "1  0042400401  1610612754    Pacers               IND        Indiana   \n",
       "\n",
       "             MIN  EFG_PCT  FTA_RATE  TM_TOV_PCT  OREB_PCT  OPP_EFG_PCT  \\\n",
       "0  240.000000:00    0.454     0.245       0.066     0.164        0.585   \n",
       "1  240.000000:00    0.585     0.256       0.242     0.283        0.454   \n",
       "\n",
       "   OPP_FTA_RATE  OPP_TOV_PCT  OPP_OREB_PCT  \n",
       "0         0.256        0.242         0.348  \n",
       "1         0.245        0.066         0.262  "
      ]
     },
     "execution_count": 15,
     "metadata": {},
     "output_type": "execute_result"
    }
   ],
   "source": [
    "teams_four_factors"
   ]
  },
  {
   "cell_type": "code",
   "execution_count": 16,
   "metadata": {},
   "outputs": [
    {
     "data": {
      "image/png": "[encoded data removed]",
      "text/plain": [
       "<Figure size 1000x600 with 1 Axes>"
      ]
     },
     "metadata": {},
     "output_type": "display_data"
    }
   ],
   "source": [
    "import matplotlib.pyplot as plt\n",
    "\n",
    "# sort and pick top 10\n",
    "top_scorers = players.sort_values('PTS', ascending=False).head(10)\n",
    "\n",
    "plt.figure(figsize=(10, 6))\n",
    "plt.bar(top_scorers['PLAYER_NAME'], top_scorers['PTS'])\n",
    "plt.xticks(rotation=45, ha='right')\n",
    "plt.title('Top 10 Scorers in Game 1')\n",
    "plt.ylabel('Points')\n",
    "plt.tight_layout()\n",
    "plt.show()"
   ]
  },
  {
   "cell_type": "code",
   "execution_count": 20,
   "metadata": {},
   "outputs": [
    {
     "data": {
      "image/png": "[encoded data removed]",
      "text/plain": [
       "<Figure size 1000x600 with 1 Axes>"
      ]
     },
     "metadata": {},
     "output_type": "display_data"
    }
   ],
   "source": [
    "# extract numeric home/away scores\n",
    "scores = pbp_df['SCORE'].fillna('0-0').str.split('-', expand=True).astype(int)\n",
    "pbp_df['HOME_PTS'] = scores[0]\n",
    "pbp_df['AWAY_PTS'] = scores[1]\n",
    "\n",
    "# cumulative sum\n",
    "pbp_df['HOME_CUM'] = pbp_df['HOME_PTS'].cummax()\n",
    "pbp_df['AWAY_CUM'] = pbp_df['AWAY_PTS'].cummax()\n",
    "\n",
    "plt.figure(figsize=(10, 6))\n",
    "plt.plot(pbp_df.index, pbp_df['HOME_CUM'], label='Home')\n",
    "plt.plot(pbp_df.index, pbp_df['AWAY_CUM'], label='Away')\n",
    "\n",
    "plt.title('Cumulative Score Through Game 1')\n",
    "plt.xlabel('Play Index')\n",
    "plt.ylabel('Points')\n",
    "plt.legend()\n",
    "plt.tight_layout()\n",
    "plt.show()\n"
   ]
  },
  {
   "cell_type": "code",
   "execution_count": 21,
   "metadata": {},
   "outputs": [
    {
     "data": {
      "image/png": "[encoded data removed]",
      "text/plain": [
       "<Figure size 1000x600 with 1 Axes>"
      ]
     },
     "metadata": {},
     "output_type": "display_data"
    }
   ],
   "source": [
    "# convert to percent (if 0–1 scale)\n",
    "if adv_player_df['TS_PCT'].max() <= 1:\n",
    "    adv_player_df['TS_PCT'] *= 100\n",
    "\n",
    "ts_leaders = adv_player_df.sort_values('TS_PCT', ascending=False).head(8)\n",
    "\n",
    "plt.figure(figsize=(10, 6))\n",
    "plt.bar(ts_leaders['PLAYER_NAME'], ts_leaders['TS_PCT'])\n",
    "plt.xticks(rotation=45, ha='right')\n",
    "plt.title('Top True-Shooting % in Game 1')\n",
    "plt.ylabel('True Shooting %')\n",
    "plt.tight_layout()\n",
    "plt.show()\n"
   ]
  },
  {
   "cell_type": "code",
   "execution_count": 24,
   "metadata": {},
   "outputs": [
    {
     "data": {
      "text/plain": [
       "Index(['GAME_ID', 'TEAM_ID', 'TEAM_NAME', 'TEAM_ABBREVIATION', 'TEAM_CITY',\n",
       "       'MIN', 'EFG_PCT', 'FTA_RATE', 'TM_TOV_PCT', 'OREB_PCT', 'OPP_EFG_PCT',\n",
       "       'OPP_FTA_RATE', 'OPP_TOV_PCT', 'OPP_OREB_PCT'],\n",
       "      dtype='object')"
      ]
     },
     "execution_count": 24,
     "metadata": {},
     "output_type": "execute_result"
    }
   ],
   "source": [
    "teams_four_factors.columns"
   ]
  },
  {
   "cell_type": "code",
   "execution_count": 25,
   "metadata": {},
   "outputs": [
    {
     "data": {
      "application/vnd.plotly.v1+json": {
       "config": {
        "plotlyServerURL": "https://plot.ly"
       },
       "data": [
        {
         "alignmentgroup": "True",
         "hovertemplate": "Factor=EFG_PCT<br>TEAM_ABBREVIATION=%{x}<br>Percent=%{y}<extra></extra>",
         "legendgroup": "EFG_PCT",
         "marker": {
          "color": "#636efa",
          "pattern": {
           "shape": ""
          }
         },
         "name": "EFG_PCT",
         "offsetgroup": "EFG_PCT",
         "orientation": "v",
         "showlegend": true,
         "textposition": "auto",
         "type": "bar",
         "x": [
          "OKC",
          "IND"
         ],
         "xaxis": "x",
         "y": [
          45.4,
          58.5
         ],
         "yaxis": "y"
        },
        {
         "alignmentgroup": "True",
         "hovertemplate": "Factor=FTA_RATE<br>TEAM_ABBREVIATION=%{x}<br>Percent=%{y}<extra></extra>",
         "legendgroup": "FTA_RATE",
         "marker": {
          "color": "#EF553B",
          "pattern": {
           "shape": ""
          }
         },
         "name": "FTA_RATE",
         "offsetgroup": "FTA_RATE",
         "orientation": "v",
         "showlegend": true,
         "textposition": "auto",
         "type": "bar",
         "x": [
          "OKC",
          "IND"
         ],
         "xaxis": "x",
         "y": [
          24.5,
          25.6
         ],
         "yaxis": "y"
        },
        {
         "alignmentgroup": "True",
         "hovertemplate": "Factor=TM_TOV_PCT<br>TEAM_ABBREVIATION=%{x}<br>Percent=%{y}<extra></extra>",
         "legendgroup": "TM_TOV_PCT",
         "marker": {
          "color": "#00cc96",
          "pattern": {
           "shape": ""
          }
         },
         "name": "TM_TOV_PCT",
         "offsetgroup": "TM_TOV_PCT",
         "orientation": "v",
         "showlegend": true,
         "textposition": "auto",
         "type": "bar",
         "x": [
          "OKC",
          "IND"
         ],
         "xaxis": "x",
         "y": [
          6.6000000000000005,
          24.2
         ],
         "yaxis": "y"
        },
        {
         "alignmentgroup": "True",
         "hovertemplate": "Factor=OREB_PCT<br>TEAM_ABBREVIATION=%{x}<br>Percent=%{y}<extra></extra>",
         "legendgroup": "OREB_PCT",
         "marker": {
          "color": "#ab63fa",
          "pattern": {
           "shape": ""
          }
         },
         "name": "OREB_PCT",
         "offsetgroup": "OREB_PCT",
         "orientation": "v",
         "showlegend": true,
         "textposition": "auto",
         "type": "bar",
         "x": [
          "OKC",
          "IND"
         ],
         "xaxis": "x",
         "y": [
          16.400000000000002,
          28.299999999999997
         ],
         "yaxis": "y"
        }
       ],
       "layout": {
        "barmode": "group",
        "legend": {
         "title": {
          "text": ""
         },
         "tracegroupgap": 0
        },
        "template": {
         "data": {
          "bar": [
           {
            "error_x": {
             "color": "#2a3f5f"
            },
            "error_y": {
             "color": "#2a3f5f"
            },
            "marker": {
             "line": {
              "color": "#E5ECF6",
              "width": 0.5
             },
             "pattern": {
              "fillmode": "overlay",
              "size": 10,
              "solidity": 0.2
             }
            },
            "type": "bar"
           }
          ],
          "barpolar": [
           {
            "marker": {
             "line": {
              "color": "#E5ECF6",
              "width": 0.5
             },
             "pattern": {
              "fillmode": "overlay",
              "size": 10,
              "solidity": 0.2
             }
            },
            "type": "barpolar"
           }
          ],
          "carpet": [
           {
            "aaxis": {
             "endlinecolor": "#2a3f5f",
             "gridcolor": "white",
             "linecolor": "white",
             "minorgridcolor": "white",
             "startlinecolor": "#2a3f5f"
            },
            "baxis": {
             "endlinecolor": "#2a3f5f",
             "gridcolor": "white",
             "linecolor": "white",
             "minorgridcolor": "white",
             "startlinecolor": "#2a3f5f"
            },
            "type": "carpet"
           }
          ],
          "choropleth": [
           {
            "colorbar": {
             "outlinewidth": 0,
             "ticks": ""
            },
            "type": "choropleth"
           }
          ],
          "contour": [
           {
            "colorbar": {
             "outlinewidth": 0,
             "ticks": ""
            },
            "colorscale": [
             [
              0,
              "#0d0887"
             ],
             [
              0.1111111111111111,
              "#46039f"
             ],
             [
              0.2222222222222222,
              "#7201a8"
             ],
             [
              0.3333333333333333,
              "#9c179e"
             ],
             [
              0.4444444444444444,
              "#bd3786"
             ],
             [
              0.5555555555555556,
              "#d8576b"
             ],
             [
              0.6666666666666666,
              "#ed7953"
             ],
             [
              0.7777777777777778,
              "#fb9f3a"
             ],
             [
              0.8888888888888888,
              "#fdca26"
             ],
             [
              1,
              "#f0f921"
             ]
            ],
            "type": "contour"
           }
          ],
          "contourcarpet": [
           {
            "colorbar": {
             "outlinewidth": 0,
             "ticks": ""
            },
            "type": "contourcarpet"
           }
          ],
          "heatmap": [
           {
            "colorbar": {
             "outlinewidth": 0,
             "ticks": ""
            },
            "colorscale": [
             [
              0,
              "#0d0887"
             ],
             [
              0.1111111111111111,
              "#46039f"
             ],
             [
              0.2222222222222222,
              "#7201a8"
             ],
             [
              0.3333333333333333,
              "#9c179e"
             ],
             [
              0.4444444444444444,
              "#bd3786"
             ],
             [
              0.5555555555555556,
              "#d8576b"
             ],
             [
              0.6666666666666666,
              "#ed7953"
             ],
             [
              0.7777777777777778,
              "#fb9f3a"
             ],
             [
              0.8888888888888888,
              "#fdca26"
             ],
             [
              1,
              "#f0f921"
             ]
            ],
            "type": "heatmap"
           }
          ],
          "heatmapgl": [
           {
            "colorbar": {
             "outlinewidth": 0,
             "ticks": ""
            },
            "colorscale": [
             [
              0,
              "#0d0887"
             ],
             [
              0.1111111111111111,
              "#46039f"
             ],
             [
              0.2222222222222222,
              "#7201a8"
             ],
             [
              0.3333333333333333,
              "#9c179e"
             ],
             [
              0.4444444444444444,
              "#bd3786"
             ],
             [
              0.5555555555555556,
              "#d8576b"
             ],
             [
              0.6666666666666666,
              "#ed7953"
             ],
             [
              0.7777777777777778,
              "#fb9f3a"
             ],
             [
              0.8888888888888888,
              "#fdca26"
             ],
             [
              1,
              "#f0f921"
             ]
            ],
            "type": "heatmapgl"
           }
          ],
          "histogram": [
           {
            "marker": {
             "pattern": {
              "fillmode": "overlay",
              "size": 10,
              "solidity": 0.2
             }
            },
            "type": "histogram"
           }
          ],
          "histogram2d": [
           {
            "colorbar": {
             "outlinewidth": 0,
             "ticks": ""
            },
            "colorscale": [
             [
              0,
              "#0d0887"
             ],
             [
              0.1111111111111111,
              "#46039f"
             ],
             [
              0.2222222222222222,
              "#7201a8"
             ],
             [
              0.3333333333333333,
              "#9c179e"
             ],
             [
              0.4444444444444444,
              "#bd3786"
             ],
             [
              0.5555555555555556,
              "#d8576b"
             ],
             [
              0.6666666666666666,
              "#ed7953"
             ],
             [
              0.7777777777777778,
              "#fb9f3a"
             ],
             [
              0.8888888888888888,
              "#fdca26"
             ],
             [
              1,
              "#f0f921"
             ]
            ],
            "type": "histogram2d"
           }
          ],
          "histogram2dcontour": [
           {
            "colorbar": {
             "outlinewidth": 0,
             "ticks": ""
            },
            "colorscale": [
             [
              0,
              "#0d0887"
             ],
             [
              0.1111111111111111,
              "#46039f"
             ],
             [
              0.2222222222222222,
              "#7201a8"
             ],
             [
              0.3333333333333333,
              "#9c179e"
             ],
             [
              0.4444444444444444,
              "#bd3786"
             ],
             [
              0.5555555555555556,
              "#d8576b"
             ],
             [
              0.6666666666666666,
              "#ed7953"
             ],
             [
              0.7777777777777778,
              "#fb9f3a"
             ],
             [
              0.8888888888888888,
              "#fdca26"
             ],
             [
              1,
              "#f0f921"
             ]
            ],
            "type": "histogram2dcontour"
           }
          ],
          "mesh3d": [
           {
            "colorbar": {
             "outlinewidth": 0,
             "ticks": ""
            },
            "type": "mesh3d"
           }
          ],
          "parcoords": [
           {
            "line": {
             "colorbar": {
              "outlinewidth": 0,
              "ticks": ""
             }
            },
            "type": "parcoords"
           }
          ],
          "pie": [
           {
            "automargin": true,
            "type": "pie"
           }
          ],
          "scatter": [
           {
            "fillpattern": {
             "fillmode": "overlay",
             "size": 10,
             "solidity": 0.2
            },
            "type": "scatter"
           }
          ],
          "scatter3d": [
           {
            "line": {
             "colorbar": {
              "outlinewidth": 0,
              "ticks": ""
             }
            },
            "marker": {
             "colorbar": {
              "outlinewidth": 0,
              "ticks": ""
             }
            },
            "type": "scatter3d"
           }
          ],
          "scattercarpet": [
           {
            "marker": {
             "colorbar": {
              "outlinewidth": 0,
              "ticks": ""
             }
            },
            "type": "scattercarpet"
           }
          ],
          "scattergeo": [
           {
            "marker": {
             "colorbar": {
              "outlinewidth": 0,
              "ticks": ""
             }
            },
            "type": "scattergeo"
           }
          ],
          "scattergl": [
           {
            "marker": {
             "colorbar": {
              "outlinewidth": 0,
              "ticks": ""
             }
            },
            "type": "scattergl"
           }
          ],
          "scattermapbox": [
           {
            "marker": {
             "colorbar": {
              "outlinewidth": 0,
              "ticks": ""
             }
            },
            "type": "scattermapbox"
           }
          ],
          "scatterpolar": [
           {
            "marker": {
             "colorbar": {
              "outlinewidth": 0,
              "ticks": ""
             }
            },
            "type": "scatterpolar"
           }
          ],
          "scatterpolargl": [
           {
            "marker": {
             "colorbar": {
              "outlinewidth": 0,
              "ticks": ""
             }
            },
            "type": "scatterpolargl"
           }
          ],
          "scatterternary": [
           {
            "marker": {
             "colorbar": {
              "outlinewidth": 0,
              "ticks": ""
             }
            },
            "type": "scatterternary"
           }
          ],
          "surface": [
           {
            "colorbar": {
             "outlinewidth": 0,
             "ticks": ""
            },
            "colorscale": [
             [
              0,
              "#0d0887"
             ],
             [
              0.1111111111111111,
              "#46039f"
             ],
             [
              0.2222222222222222,
              "#7201a8"
             ],
             [
              0.3333333333333333,
              "#9c179e"
             ],
             [
              0.4444444444444444,
              "#bd3786"
             ],
             [
              0.5555555555555556,
              "#d8576b"
             ],
             [
              0.6666666666666666,
              "#ed7953"
             ],
             [
              0.7777777777777778,
              "#fb9f3a"
             ],
             [
              0.8888888888888888,
              "#fdca26"
             ],
             [
              1,
              "#f0f921"
             ]
            ],
            "type": "surface"
           }
          ],
          "table": [
           {
            "cells": {
             "fill": {
              "color": "#EBF0F8"
             },
             "line": {
              "color": "white"
             }
            },
            "header": {
             "fill": {
              "color": "#C8D4E3"
             },
             "line": {
              "color": "white"
             }
            },
            "type": "table"
           }
          ]
         },
         "layout": {
          "annotationdefaults": {
           "arrowcolor": "#2a3f5f",
           "arrowhead": 0,
           "arrowwidth": 1
          },
          "autotypenumbers": "strict",
          "coloraxis": {
           "colorbar": {
            "outlinewidth": 0,
            "ticks": ""
           }
          },
          "colorscale": {
           "diverging": [
            [
             0,
             "#8e0152"
            ],
            [
             0.1,
             "#c51b7d"
            ],
            [
             0.2,
             "#de77ae"
            ],
            [
             0.3,
             "#f1b6da"
            ],
            [
             0.4,
             "#fde0ef"
            ],
            [
             0.5,
             "#f7f7f7"
            ],
            [
             0.6,
             "#e6f5d0"
            ],
            [
             0.7,
             "#b8e186"
            ],
            [
             0.8,
             "#7fbc41"
            ],
            [
             0.9,
             "#4d9221"
            ],
            [
             1,
             "#276419"
            ]
           ],
           "sequential": [
            [
             0,
             "#0d0887"
            ],
            [
             0.1111111111111111,
             "#46039f"
            ],
            [
             0.2222222222222222,
             "#7201a8"
            ],
            [
             0.3333333333333333,
             "#9c179e"
            ],
            [
             0.4444444444444444,
             "#bd3786"
            ],
            [
             0.5555555555555556,
             "#d8576b"
            ],
            [
             0.6666666666666666,
             "#ed7953"
            ],
            [
             0.7777777777777778,
             "#fb9f3a"
            ],
            [
             0.8888888888888888,
             "#fdca26"
            ],
            [
             1,
             "#f0f921"
            ]
           ],
           "sequentialminus": [
            [
             0,
             "#0d0887"
            ],
            [
             0.1111111111111111,
             "#46039f"
            ],
            [
             0.2222222222222222,
             "#7201a8"
            ],
            [
             0.3333333333333333,
             "#9c179e"
            ],
            [
             0.4444444444444444,
             "#bd3786"
            ],
            [
             0.5555555555555556,
             "#d8576b"
            ],
            [
             0.6666666666666666,
             "#ed7953"
            ],
            [
             0.7777777777777778,
             "#fb9f3a"
            ],
            [
             0.8888888888888888,
             "#fdca26"
            ],
            [
             1,
             "#f0f921"
            ]
           ]
          },
          "colorway": [
           "#636efa",
           "#EF553B",
           "#00cc96",
           "#ab63fa",
           "#FFA15A",
           "#19d3f3",
           "#FF6692",
           "#B6E880",
           "#FF97FF",
           "#FECB52"
          ],
          "font": {
           "color": "#2a3f5f"
          },
          "geo": {
           "bgcolor": "white",
           "lakecolor": "white",
           "landcolor": "#E5ECF6",
           "showlakes": true,
           "showland": true,
           "subunitcolor": "white"
          },
          "hoverlabel": {
           "align": "left"
          },
          "hovermode": "closest",
          "mapbox": {
           "style": "light"
          },
          "paper_bgcolor": "white",
          "plot_bgcolor": "#E5ECF6",
          "polar": {
           "angularaxis": {
            "gridcolor": "white",
            "linecolor": "white",
            "ticks": ""
           },
           "bgcolor": "#E5ECF6",
           "radialaxis": {
            "gridcolor": "white",
            "linecolor": "white",
            "ticks": ""
           }
          },
          "scene": {
           "xaxis": {
            "backgroundcolor": "#E5ECF6",
            "gridcolor": "white",
            "gridwidth": 2,
            "linecolor": "white",
            "showbackground": true,
            "ticks": "",
            "zerolinecolor": "white"
           },
           "yaxis": {
            "backgroundcolor": "#E5ECF6",
            "gridcolor": "white",
            "gridwidth": 2,
            "linecolor": "white",
            "showbackground": true,
            "ticks": "",
            "zerolinecolor": "white"
           },
           "zaxis": {
            "backgroundcolor": "#E5ECF6",
            "gridcolor": "white",
            "gridwidth": 2,
            "linecolor": "white",
            "showbackground": true,
            "ticks": "",
            "zerolinecolor": "white"
           }
          },
          "shapedefaults": {
           "line": {
            "color": "#2a3f5f"
           }
          },
          "ternary": {
           "aaxis": {
            "gridcolor": "white",
            "linecolor": "white",
            "ticks": ""
           },
           "baxis": {
            "gridcolor": "white",
            "linecolor": "white",
            "ticks": ""
           },
           "bgcolor": "#E5ECF6",
           "caxis": {
            "gridcolor": "white",
            "linecolor": "white",
            "ticks": ""
           }
          },
          "title": {
           "x": 0.05
          },
          "xaxis": {
           "automargin": true,
           "gridcolor": "white",
           "linecolor": "white",
           "ticks": "",
           "title": {
            "standoff": 15
           },
           "zerolinecolor": "white",
           "zerolinewidth": 2
          },
          "yaxis": {
           "automargin": true,
           "gridcolor": "white",
           "linecolor": "white",
           "ticks": "",
           "title": {
            "standoff": 15
           },
           "zerolinecolor": "white",
           "zerolinewidth": 2
          }
         }
        },
        "title": {
         "text": "Team Four-Factors Comparison – Game 1"
        },
        "xaxis": {
         "anchor": "y",
         "domain": [
          0,
          1
         ],
         "title": {
          "text": ""
         }
        },
        "yaxis": {
         "anchor": "x",
         "domain": [
          0,
          1
         ],
         "title": {
          "text": "Percent"
         }
        }
       }
      }
     },
     "metadata": {},
     "output_type": "display_data"
    }
   ],
   "source": [
    "import plotly.express as px\n",
    "\n",
    "# pick the four factors from your DataFrame\n",
    "cols = ['EFG_PCT', 'FTA_RATE', 'TM_TOV_PCT', 'OREB_PCT']\n",
    "df = teams_four_factors.copy()\n",
    "\n",
    "# If these are on a 0–1 scale, convert to percentages\n",
    "for c in cols:\n",
    "    if df[c].max() <= 1:\n",
    "        df[c] *= 100\n",
    "\n",
    "fig = px.bar(\n",
    "    df,\n",
    "    x='TEAM_ABBREVIATION',\n",
    "    y=cols,\n",
    "    barmode='group',\n",
    "    labels={'value':'Percent', 'variable':'Factor'},\n",
    "    title='Team Four-Factors Comparison – Game 1'\n",
    ")\n",
    "fig.update_layout(xaxis_title='', legend_title='')\n",
    "fig.show()\n"
   ]
  }
 ],
 "metadata": {
  "kernelspec": {
   "display_name": "base",
   "language": "python",
   "name": "python3"
  },
  "language_info": {
   "codemirror_mode": {
    "name": "ipython",
    "version": 3
   },
   "file_extension": ".py",
   "mimetype": "text/x-python",
   "name": "python",
   "nbconvert_exporter": "python",
   "pygments_lexer": "ipython3",
   "version": "3.12.2"
  }
 },
 "nbformat": 4,
 "nbformat_minor": 2
}
