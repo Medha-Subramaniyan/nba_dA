{
  "cells": [
    {
      "cell_type": "raw",
      "metadata": {
        "vscode": {
          "languageId": "raw"
        }
      },
      "source": [
        "# NBA Finals 2025 - Game 5 Analysis\n",
        "Oklahoma City Thunder vs Indiana Pacers - June 16, 2025\n",
        "\n",
        "This notebook collects and analyzes data from Game 5 of the 2025 NBA Finals between the Oklahoma City Thunder and Indiana Pacers.\n"
      ]
    },
    {
      "cell_type": "code",
      "execution_count": 1,
      "metadata": {},
      "outputs": [
        {
          "name": "stdout",
          "output_type": "stream",
          "text": [
            "Working directory: /Users/medhasubramaniyan/2025_finals\n",
            "Data directory: /Users/medhasubramaniyan/2025_finals/data/game5\n",
            "Data directory exists: True\n",
            "Data directory is writable: True\n"
          ]
        }
      ],
      "source": [
        "import os\n",
        "import pandas as pd\n",
        "from nba_api.stats.static import teams\n",
        "from pathlib import Path\n",
        "\n",
        "# Setup data directory path - go up one level from notebooks to project root\n",
        "BASE_DIR = Path(os.getcwd()).parent\n",
        "DATA_DIR = BASE_DIR / 'data' / 'game5'\n",
        "os.makedirs(DATA_DIR, exist_ok=True)\n",
        "\n",
        "print(f\"Working directory: {BASE_DIR}\")\n",
        "print(f\"Data directory: {DATA_DIR}\")\n",
        "print(f\"Data directory exists: {DATA_DIR.exists()}\")\n",
        "print(f\"Data directory is writable: {os.access(DATA_DIR, os.W_OK)}\")\n",
        "\n",
        "# Get team IDs\n",
        "OKC_data = teams.find_teams_by_full_name(\"Oklahoma City Thunder\")\n",
        "OKC_id = OKC_data[0]['id'] # 1610612760\n",
        "\n",
        "PAC_data = teams.find_teams_by_full_name(\"Indiana Pacers\")\n",
        "PAC_id = PAC_data[0]['id'] # 1610612754\n"
      ]
    },
    {
      "cell_type": "code",
      "execution_count": 2,
      "metadata": {},
      "outputs": [
        {
          "name": "stdout",
          "output_type": "stream",
          "text": [
            "Game Data:\n",
            "  SEASON_ID     TEAM_ID TEAM_ABBREVIATION              TEAM_NAME     GAME_ID  \\\n",
            "0     42024  1610612760               OKC  Oklahoma City Thunder  0042400405   \n",
            "\n",
            "    GAME_DATE      MATCHUP WL  MIN  PTS  ...  FT_PCT  OREB  DREB  REB  AST  \\\n",
            "0  2025-06-16  OKC vs. IND  W  239  120  ...   0.813    19    26   45   24   \n",
            "\n",
            "   STL  BLK  TOV  PF  PLUS_MINUS  \n",
            "0   15   12   11  24        11.0  \n",
            "\n",
            "[1 rows x 28 columns]\n"
          ]
        }
      ],
      "source": [
        "# Get Game ID\n",
        "from nba_api.stats.endpoints import leaguegamefinder\n",
        "\n",
        "finder = leaguegamefinder.LeagueGameFinder(\n",
        "    player_or_team_abbreviation=\"T\",\n",
        "    team_id_nullable=OKC_id,\n",
        "    date_from_nullable=\"06/16/2025\",\n",
        "    date_to_nullable=\"06/16/2025\"\n",
        ")\n",
        "\n",
        "g5 = finder.get_data_frames()[0]\n",
        "g5_id = g5[\"GAME_ID\"].iloc[0] # Should be 0042400405\n",
        "\n",
        "print(\"Game Data:\")\n",
        "print(g5)\n"
      ]
    },
    {
      "cell_type": "code",
      "execution_count": 3,
      "metadata": {},
      "outputs": [
        {
          "ename": "TypeError",
          "evalue": "ShotChartDetail.__init__() missing 1 required positional argument: 'player_id'",
          "output_type": "error",
          "traceback": [
            "\u001b[0;31m---------------------------------------------------------------------------\u001b[0m",
            "\u001b[0;31mTypeError\u001b[0m                                 Traceback (most recent call last)",
            "Cell \u001b[0;32mIn[3], line 43\u001b[0m\n\u001b[1;32m     40\u001b[0m ff_df\u001b[38;5;241m.\u001b[39mto_csv(DATA_DIR \u001b[38;5;241m/\u001b[39m \u001b[38;5;124m'\u001b[39m\u001b[38;5;124mfour_factors.csv\u001b[39m\u001b[38;5;124m'\u001b[39m, index\u001b[38;5;241m=\u001b[39m\u001b[38;5;28;01mFalse\u001b[39;00m)\n\u001b[1;32m     42\u001b[0m \u001b[38;5;66;03m# Shot Charts\u001b[39;00m\n\u001b[0;32m---> 43\u001b[0m okc_shots \u001b[38;5;241m=\u001b[39m shotchartdetail\u001b[38;5;241m.\u001b[39mShotChartDetail(team_id\u001b[38;5;241m=\u001b[39mOKC_id, game_id_nullable\u001b[38;5;241m=\u001b[39mg5_id)\n\u001b[1;32m     44\u001b[0m okc_shots_df \u001b[38;5;241m=\u001b[39m okc_shots\u001b[38;5;241m.\u001b[39mget_data_frames()[\u001b[38;5;241m0\u001b[39m]\n\u001b[1;32m     45\u001b[0m okc_shots_df\u001b[38;5;241m.\u001b[39mto_csv(DATA_DIR \u001b[38;5;241m/\u001b[39m \u001b[38;5;124m'\u001b[39m\u001b[38;5;124mokc_shots.csv\u001b[39m\u001b[38;5;124m'\u001b[39m, index\u001b[38;5;241m=\u001b[39m\u001b[38;5;28;01mFalse\u001b[39;00m)\n",
            "\u001b[0;31mTypeError\u001b[0m: ShotChartDetail.__init__() missing 1 required positional argument: 'player_id'"
          ]
        }
      ],
      "source": [
        "# Import required endpoints\n",
        "from nba_api.stats.endpoints import (\n",
        "    boxscoretraditionalv2,\n",
        "    boxscoreadvancedv2,\n",
        "    playbyplayv2,\n",
        "    hustlestatsboxscore,\n",
        "    winprobabilitypbp,\n",
        "    boxscorefourfactorsv2,\n",
        "    shotchartdetail\n",
        ")\n",
        "import pandas as pd\n",
        "\n",
        "# Traditional Stats\n",
        "trad_stats = boxscoretraditionalv2.BoxScoreTraditionalV2(game_id=g5_id)\n",
        "trad_stats_df = trad_stats.get_data_frames()[0]\n",
        "trad_stats_df.to_csv(DATA_DIR / 'traditional_stats.csv', index=False)\n",
        "\n",
        "# Get player IDs from traditional stats\n",
        "okc_players = trad_stats_df[trad_stats_df['TEAM_ID'] == OKC_id]['PLAYER_ID'].tolist()\n",
        "pac_players = trad_stats_df[trad_stats_df['TEAM_ID'] == PAC_id]['PLAYER_ID'].tolist()\n",
        "\n",
        "# Advanced Stats\n",
        "adv_stats = boxscoreadvancedv2.BoxScoreAdvancedV2(game_id=g5_id)\n",
        "adv_stats_df = adv_stats.get_data_frames()[0]\n",
        "adv_stats_df.to_csv(DATA_DIR / 'advanced_stats.csv', index=False)\n",
        "\n",
        "# Play by Play\n",
        "pbp = playbyplayv2.PlayByPlayV2(game_id=g5_id)\n",
        "pbp_df = pbp.get_data_frames()[0]\n",
        "pbp_df.to_csv(DATA_DIR / 'play_by_play.csv', index=False)\n",
        "\n",
        "# Hustle Stats\n",
        "hustle = hustlestatsboxscore.HustleStatsBoxScore(game_id=g5_id)\n",
        "hustle_df = hustle.get_data_frames()[0]\n",
        "hustle_df.to_csv(DATA_DIR / 'hustle_stats.csv', index=False)\n",
        "\n",
        "# Win Probability\n",
        "wp = winprobabilitypbp.WinProbabilityPBP(game_id=g5_id)\n",
        "wp_df = wp.get_data_frames()[0]\n",
        "wp_df.to_csv(DATA_DIR / 'win_probability.csv', index=False)\n",
        "\n",
        "# Four Factors\n",
        "ff = boxscorefourfactorsv2.BoxScoreFourFactorsV2(game_id=g5_id)\n",
        "ff_df = ff.get_data_frames()[0]\n",
        "ff_df.to_csv(DATA_DIR / 'four_factors.csv', index=False)\n",
        "\n",
        "# Import required for handling timeouts and delays\n",
        "import time\n",
        "from requests.exceptions import ReadTimeout, ConnectionError\n",
        "import random\n",
        "\n",
        "def get_shot_chart_with_retries(team_id, player_id, game_id, max_retries=3, base_timeout=60):\n",
        "    \"\"\"Helper function to get shot chart data with retries and exponential backoff\"\"\"\n",
        "    for attempt in range(max_retries):\n",
        "        try:\n",
        "            # Increase timeout for each retry attempt\n",
        "            timeout = base_timeout * (attempt + 1)\n",
        "            shots = shotchartdetail.ShotChartDetail(\n",
        "                team_id=team_id,\n",
        "                player_id=player_id,\n",
        "                game_id_nullable=game_id,\n",
        "                timeout=timeout\n",
        "            )\n",
        "            return shots.get_data_frames()[0]\n",
        "        except (ReadTimeout, ConnectionError) as e:\n",
        "            if attempt == max_retries - 1:  # Last attempt\n",
        "                print(f\"Failed to get shot chart data for player {player_id} after {max_retries} attempts\")\n",
        "                raise e\n",
        "            # Wait with exponential backoff before retrying\n",
        "            wait_time = (2 ** attempt) + random.uniform(0, 1)\n",
        "            print(f\"Attempt {attempt + 1} failed. Waiting {wait_time:.2f} seconds before retry...\")\n",
        "            time.sleep(wait_time)\n",
        "\n",
        "# Shot Charts - collect for all players on each team with error handling\n",
        "print(\"Collecting OKC shot charts...\")\n",
        "okc_shots_list = []\n",
        "for player_id in okc_players:\n",
        "    try:\n",
        "        shots_df = get_shot_chart_with_retries(OKC_id, player_id, g5_id)\n",
        "        okc_shots_list.append(shots_df)\n",
        "        # Add a small random delay between requests\n",
        "        time.sleep(random.uniform(1, 2))\n",
        "    except Exception as e:\n",
        "        print(f\"Error collecting shots for OKC player {player_id}: {str(e)}\")\n",
        "        continue\n",
        "\n",
        "print(\"\\nCollecting Pacers shot charts...\")\n",
        "pac_shots_list = []\n",
        "for player_id in pac_players:\n",
        "    try:\n",
        "        shots_df = get_shot_chart_with_retries(PAC_id, player_id, g5_id)\n",
        "        pac_shots_list.append(shots_df)\n",
        "        # Add a small random delay between requests\n",
        "        time.sleep(random.uniform(1, 2))\n",
        "    except Exception as e:\n",
        "        print(f\"Error collecting shots for Pacers player {player_id}: {str(e)}\")\n",
        "        continue\n",
        "\n",
        "# Combine all shots for each team\n",
        "if okc_shots_list:\n",
        "    print(\"\\nCombining OKC shots...\")\n",
        "    okc_shots_df = pd.concat(okc_shots_list, ignore_index=True)\n",
        "    okc_shots_df.to_csv(DATA_DIR / 'okc_shots.csv', index=False)\n",
        "    print(f\"Saved {len(okc_shots_df)} OKC shots\")\n",
        "\n",
        "if pac_shots_list:\n",
        "    print(\"\\nCombining Pacers shots...\")\n",
        "    pac_shots_df = pd.concat(pac_shots_list, ignore_index=True)\n",
        "    pac_shots_df.to_csv(DATA_DIR / 'pac_shots.csv', index=False)\n",
        "    print(f\"Saved {len(pac_shots_df)} Pacers shots\")\n",
        "\n",
        "print(\"All data has been collected and saved to the data/game5 directory.\")\n"
      ]
    }
  ],
  "metadata": {
    "kernelspec": {
      "display_name": "base",
      "language": "python",
      "name": "python3"
    },
    "language_info": {
      "codemirror_mode": {
        "name": "ipython",
        "version": 3
      },
      "file_extension": ".py",
      "mimetype": "text/x-python",
      "name": "python",
      "nbconvert_exporter": "python",
      "pygments_lexer": "ipython3",
      "version": "3.12.2"
    }
  },
  "nbformat": 4,
  "nbformat_minor": 2
}
