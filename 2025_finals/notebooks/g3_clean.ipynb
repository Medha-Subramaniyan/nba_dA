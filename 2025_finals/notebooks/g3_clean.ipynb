{
  "cells": [
    {
      "cell_type": "raw",
      "metadata": {
        "vscode": {
          "languageId": "raw"
        }
      },
      "source": [
        "# NBA Finals 2025 - Game 3 Analysis\n",
        "Oklahoma City Thunder vs Indiana Pacers - June 11, 2025\n",
        "\n",
        "This notebook collects and analyzes data from Game 3 of the 2025 NBA Finals between the Oklahoma City Thunder and Indiana Pacers.\n"
      ]
    },
    {
      "cell_type": "raw",
      "metadata": {
        "vscode": {
          "languageId": "raw"
        }
      },
      "source": [
        "## Setup and Configuration\n",
        "\n",
        "First, we'll set up our environment and configure paths for data storage.\n"
      ]
    },
    {
      "cell_type": "code",
      "execution_count": 1,
      "metadata": {},
      "outputs": [
        {
          "name": "stdout",
          "output_type": "stream",
          "text": [
            "Working directory: /Users/medhasubramaniyan/2025_finals\n",
            "Data directory: /Users/medhasubramaniyan/2025_finals/data/game3\n",
            "Data directory exists: True\n",
            "Data directory is writable: True\n"
          ]
        }
      ],
      "source": [
        "import os\n",
        "import pandas as pd\n",
        "from nba_api.stats.static import teams\n",
        "from pathlib import Path\n",
        "\n",
        "# Setup data directory path - go up one level from notebooks to project root\n",
        "BASE_DIR = Path(os.getcwd()).parent\n",
        "DATA_DIR = BASE_DIR / 'data' / 'game3'\n",
        "os.makedirs(DATA_DIR, exist_ok=True)\n",
        "\n",
        "print(f\"Working directory: {BASE_DIR}\")\n",
        "print(f\"Data directory: {DATA_DIR}\")\n",
        "print(f\"Data directory exists: {DATA_DIR.exists()}\")\n",
        "print(f\"Data directory is writable: {os.access(DATA_DIR, os.W_OK)}\")\n",
        "\n",
        "# Get team IDs\n",
        "OKC_data = teams.find_teams_by_full_name(\"Oklahoma City Thunder\")\n",
        "OKC_id = OKC_data[0]['id'] # 1610612760\n",
        "\n",
        "PAC_data = teams.find_teams_by_full_name(\"Indiana Pacers\")\n",
        "PAC_id = PAC_data[0]['id'] # 1610612754\n"
      ]
    },
    {
      "cell_type": "raw",
      "metadata": {
        "vscode": {
          "languageId": "raw"
        }
      },
      "source": [
        "## Get Game ID\n",
        "\n",
        "Retrieve the game ID for Game 3 of the Finals.\n"
      ]
    },
    {
      "cell_type": "code",
      "execution_count": 2,
      "metadata": {},
      "outputs": [
        {
          "name": "stdout",
          "output_type": "stream",
          "text": [
            "Game Data:\n",
            "  SEASON_ID     TEAM_ID TEAM_ABBREVIATION              TEAM_NAME     GAME_ID  \\\n",
            "0     42024  1610612760               OKC  Oklahoma City Thunder  0042400403   \n",
            "\n",
            "    GAME_DATE    MATCHUP WL  MIN  PTS  ...  FT_PCT  OREB  DREB  REB  AST  STL  \\\n",
            "0  2025-06-11  OKC @ IND  L  239  107  ...   0.767     9    33   42   16    6   \n",
            "\n",
            "   BLK  TOV  PF  PLUS_MINUS  \n",
            "0    4   17  20        -9.0  \n",
            "\n",
            "[1 rows x 28 columns]\n"
          ]
        }
      ],
      "source": [
        "from nba_api.stats.endpoints import leaguegamefinder\n",
        "\n",
        "finder = leaguegamefinder.LeagueGameFinder(\n",
        "    player_or_team_abbreviation=\"T\",\n",
        "    team_id_nullable=OKC_id,\n",
        "    date_from_nullable=\"06/11/2025\",\n",
        "    date_to_nullable=\"06/11/2025\"\n",
        ")\n",
        "\n",
        "g3 = finder.get_data_frames()[0]\n",
        "g3_id = g3[\"GAME_ID\"].iloc[0] # Should be 0042400403\n",
        "\n",
        "print(\"Game Data:\")\n",
        "print(g3)\n"
      ]
    },
    {
      "cell_type": "raw",
      "metadata": {
        "vscode": {
          "languageId": "raw"
        }
      },
      "source": [
        "## Collect Game Statistics\n",
        "\n",
        "Now we'll collect various statistics for the game, including:\n",
        "- Player and team traditional stats\n",
        "- Advanced stats\n",
        "- Play-by-play data\n",
        "- Hustle stats\n",
        "- Win probability\n",
        "- Four factors\n",
        "- Shot charts\n"
      ]
    },
    {
      "cell_type": "code",
      "execution_count": 3,
      "metadata": {},
      "outputs": [
        {
          "name": "stdout",
          "output_type": "stream",
          "text": [
            "Player data saved to: /Users/medhasubramaniyan/2025_finals/data/game3/player_data.csv\n",
            "Team data saved to: /Users/medhasubramaniyan/2025_finals/data/game3/team_data.csv\n"
          ]
        }
      ],
      "source": [
        "# Traditional Stats\n",
        "from nba_api.stats.endpoints import boxscoretraditionalv2\n",
        "box = boxscoretraditionalv2.BoxScoreTraditionalV2(game_id=g3_id)\n",
        "\n",
        "# Player Stats\n",
        "players = box.player_stats.get_data_frame()\n",
        "player_path = DATA_DIR / 'player_data.csv'\n",
        "players.to_csv(player_path)\n",
        "print(f\"Player data saved to: {player_path}\")\n",
        "\n",
        "# Team Stats\n",
        "teams = box.team_stats.get_data_frame()\n",
        "team_path = DATA_DIR / 'team_data.csv'\n",
        "teams.to_csv(team_path)\n",
        "print(f\"Team data saved to: {team_path}\")\n"
      ]
    },
    {
      "cell_type": "code",
      "execution_count": 4,
      "metadata": {},
      "outputs": [
        {
          "name": "stdout",
          "output_type": "stream",
          "text": [
            "Advanced player data saved to: /Users/medhasubramaniyan/2025_finals/data/game3/adv_players.csv\n",
            "Advanced team data saved to: /Users/medhasubramaniyan/2025_finals/data/game3/adv_team.csv\n"
          ]
        }
      ],
      "source": [
        "# Advanced Stats\n",
        "from nba_api.stats.endpoints import boxscoreadvancedv2\n",
        "adv_box = boxscoreadvancedv2.BoxScoreAdvancedV2(game_id=g3_id)\n",
        "\n",
        "# Advanced Player Stats\n",
        "adv_player_df = adv_box.player_stats.get_data_frame()\n",
        "adv_player_path = DATA_DIR / 'adv_players.csv'\n",
        "adv_player_df.to_csv(adv_player_path)\n",
        "print(f\"Advanced player data saved to: {adv_player_path}\")\n",
        "\n",
        "# Advanced Team Stats\n",
        "adv_team_df = adv_box.team_stats.get_data_frame()\n",
        "adv_team_path = DATA_DIR / 'adv_team.csv'\n",
        "adv_team_df.to_csv(adv_team_path)\n",
        "print(f\"Advanced team data saved to: {adv_team_path}\")\n"
      ]
    },
    {
      "cell_type": "code",
      "execution_count": 5,
      "metadata": {},
      "outputs": [
        {
          "name": "stdout",
          "output_type": "stream",
          "text": [
            "Play-by-play data saved to: /Users/medhasubramaniyan/2025_finals/data/game3/plays.csv\n",
            "Hustle stats saved to: /Users/medhasubramaniyan/2025_finals/data/game3/hustle.csv\n",
            "Win probability data saved to: /Users/medhasubramaniyan/2025_finals/data/game3/win_prob.csv\n"
          ]
        }
      ],
      "source": [
        "# Play-by-Play Data\n",
        "from nba_api.stats.endpoints import playbyplayv2\n",
        "pbp = playbyplayv2.PlayByPlayV2(game_id=g3_id)\n",
        "pbp_df = pbp.get_data_frames()[0]\n",
        "pbp_path = DATA_DIR / 'plays.csv'\n",
        "pbp_df.to_csv(pbp_path)\n",
        "print(f\"Play-by-play data saved to: {pbp_path}\")\n",
        "\n",
        "# Hustle Stats\n",
        "from nba_api.stats.endpoints import BoxScoreHustleV2\n",
        "hustle = BoxScoreHustleV2(game_id=g3_id)\n",
        "hustle_df = hustle.get_data_frames()[0]\n",
        "hustle_path = DATA_DIR / 'hustle.csv'\n",
        "hustle_df.to_csv(hustle_path)\n",
        "print(f\"Hustle stats saved to: {hustle_path}\")\n",
        "\n",
        "# Win Probability\n",
        "from nba_api.stats.endpoints import WinProbabilityPBP\n",
        "w_pct_pbp = WinProbabilityPBP(game_id=g3_id, run_type=\"each second\")\n",
        "w_pct_pbp_df = w_pct_pbp.get_data_frames()[0]\n",
        "win_prob_path = DATA_DIR / 'win_prob.csv'\n",
        "w_pct_pbp_df.to_csv(win_prob_path)\n",
        "print(f\"Win probability data saved to: {win_prob_path}\")\n"
      ]
    },
    {
      "cell_type": "code",
      "execution_count": 6,
      "metadata": {},
      "outputs": [
        {
          "name": "stdout",
          "output_type": "stream",
          "text": [
            "Four factors data saved to: /Users/medhasubramaniyan/2025_finals/data/game3/players_four_factors.csv and /Users/medhasubramaniyan/2025_finals/data/game3/teams_four_factors.csv\n"
          ]
        }
      ],
      "source": [
        "# Four Factors\n",
        "from nba_api.stats.endpoints import boxscorefourfactorsv2\n",
        "four_factors = boxscorefourfactorsv2.BoxScoreFourFactorsV2(\n",
        "    game_id=g3_id,\n",
        "    start_period=1,\n",
        "    end_period=4,\n",
        "    range_type=0,\n",
        "    start_range=0,\n",
        "    end_range=0\n",
        ")\n",
        "\n",
        "players_four_factors, teams_four_factors = four_factors.get_data_frames()\n",
        "players_ff_path = DATA_DIR / 'players_four_factors.csv'\n",
        "teams_ff_path = DATA_DIR / 'teams_four_factors.csv'\n",
        "\n",
        "players_four_factors.to_csv(players_ff_path)\n",
        "teams_four_factors.to_csv(teams_ff_path)\n",
        "print(f\"Four factors data saved to: {players_ff_path} and {teams_ff_path}\")\n"
      ]
    },
    {
      "cell_type": "code",
      "execution_count": 7,
      "metadata": {},
      "outputs": [
        {
          "name": "stdout",
          "output_type": "stream",
          "text": [
            "Shot chart data saved to: /Users/medhasubramaniyan/2025_finals/data/game3/Pacers_shotchart.csv\n"
          ]
        }
      ],
      "source": [
        "# Shot Charts\n",
        "from nba_api.stats.endpoints import CommonTeamRoster, ShotChartDetail\n",
        "\n",
        "team_id = PAC_id\n",
        "season = '2024-25'\n",
        "season_type = 'Playoffs'\n",
        "game_id = g3_id\n",
        "\n",
        "# 1. Fetch the team's roster for the season\n",
        "roster = CommonTeamRoster(team_id=team_id, season=season)\n",
        "roster_df = roster.get_data_frames()[0]\n",
        "player_ids = roster_df['PLAYER_ID'].tolist()\n",
        "\n",
        "# 2. Loop through each player and pull their shot chart detail for that game\n",
        "shots_list = []\n",
        "for pid in player_ids:\n",
        "    shot_detail = ShotChartDetail(\n",
        "        context_measure_simple='PTS',\n",
        "        last_n_games=0,\n",
        "        league_id='00',\n",
        "        season_type_all_star=season_type,\n",
        "        season_nullable=season,\n",
        "        team_id=0,\n",
        "        player_id=pid,\n",
        "        game_id_nullable=game_id,\n",
        "        date_from_nullable='06/11/2025',\n",
        "        date_to_nullable='06/11/2025'\n",
        "    )\n",
        "    _, df_shots = shot_detail.get_data_frames()\n",
        "    if not df_shots.empty:\n",
        "        shots_list.append(df_shots)\n",
        "\n",
        "if shots_list:\n",
        "    team_shot_detail_df = pd.concat(shots_list, ignore_index=True)\n",
        "    shot_chart_path = DATA_DIR / 'Pacers_shotchart.csv'\n",
        "    team_shot_detail_df.to_csv(shot_chart_path)\n",
        "    print(f\"Shot chart data saved to: {shot_chart_path}\")\n",
        "else:\n",
        "    print(\"No shot chart data available\")\n"
      ]
    }
  ],
  "metadata": {
    "kernelspec": {
      "display_name": "base",
      "language": "python",
      "name": "python3"
    },
    "language_info": {
      "codemirror_mode": {
        "name": "ipython",
        "version": 3
      },
      "file_extension": ".py",
      "mimetype": "text/x-python",
      "name": "python",
      "nbconvert_exporter": "python",
      "pygments_lexer": "ipython3",
      "version": "3.12.2"
    }
  },
  "nbformat": 4,
  "nbformat_minor": 2
}
