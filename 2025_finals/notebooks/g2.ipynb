{
 "cells": [
  {
   "cell_type": "code",
   "execution_count": 1,
   "metadata": {},
   "outputs": [],
   "source": [
    "from nba_api.stats.static import teams\n",
    "import pandas as pd \n"
   ]
  },
  {
   "cell_type": "code",
   "execution_count": 2,
   "metadata": {},
   "outputs": [],
   "source": [
    "OKC_data  = teams.find_teams_by_full_name(\"Oklahoma City Thunder\")\n",
    "OKC_id = OKC_data[0]['id'] # 1610612760 team id \n",
    "\n",
    "PAC_data = teams.find_teams_by_full_name(\"Indiana Pacers\")\n",
    "PAC_id = PAC_data[0]['id'] # 1610612754 team id "
   ]
  },
  {
   "cell_type": "code",
   "execution_count": 4,
   "metadata": {},
   "outputs": [
    {
     "data": {
      "application/vnd.microsoft.datawrangler.viewer.v0+json": {
       "columns": [
        {
         "name": "index",
         "rawType": "int64",
         "type": "integer"
        },
        {
         "name": "GAME_ID",
         "rawType": "object",
         "type": "string"
        }
       ],
       "ref": "48df9444-2bf9-429b-b0eb-f60c4520f01d",
       "rows": [
        [
         "0",
         "0042400402"
        ]
       ],
       "shape": {
        "columns": 1,
        "rows": 1
       }
      },
      "text/plain": [
       "0    0042400402\n",
       "Name: GAME_ID, dtype: object"
      ]
     },
     "execution_count": 4,
     "metadata": {},
     "output_type": "execute_result"
    }
   ],
   "source": [
    "from nba_api.stats.endpoints import leaguegamefinder\n",
    "\n",
    "finder = leaguegamefinder.LeagueGameFinder(\n",
    "player_or_team_abbreviation= \"T\",\n",
    "team_id_nullable=1610612760,\n",
    "date_from_nullable=\"06/08/2025\",\n",
    "date_to_nullable=\"06/08/2025\"\n",
    ")\n",
    "\n",
    "g2 = finder.get_data_frames()[0] \n",
    "g2_id= g2[\"GAME_ID\"] \n",
    "g2_id #0042400402\t"
   ]
  },
  {
   "cell_type": "code",
   "execution_count": 7,
   "metadata": {},
   "outputs": [],
   "source": [
    "from nba_api.stats.endpoints import boxscoretraditionalv2\n",
    "box = boxscoretraditionalv2.BoxScoreTraditionalV2(game_id=g1_id)\n",
    "players = box.player_stats.get_data_frame()\n",
    "players.to_csv(\"player_data.csv\")"
   ]
  },
  {
   "cell_type": "code",
   "execution_count": 8,
   "metadata": {},
   "outputs": [],
   "source": [
    "teams = box.team_stats.get_data_frame()\n",
    "teams.to_csv(\"team_data.csv\")"
   ]
  },
  {
   "cell_type": "code",
   "execution_count": 9,
   "metadata": {},
   "outputs": [],
   "source": [
    "from nba_api.stats.endpoints import boxscoreadvancedv2\n",
    "adv_box = boxscoreadvancedv2.BoxScoreAdvancedV2(game_id=g1_id)\n",
    "adv_player_df = adv_box.player_stats.get_data_frame() #advanced player stats\n",
    "\n",
    "adv_team_df = adv_box.team_stats.get_data_frame()\n",
    "adv_team_df.to_csv(\"adv_team.csv\")#advanced team stats"
   ]
  },
  {
   "cell_type": "code",
   "execution_count": 10,
   "metadata": {},
   "outputs": [
    {
     "data": {
      "application/vnd.microsoft.datawrangler.viewer.v0+json": {
       "columns": [
        {
         "name": "index",
         "rawType": "int64",
         "type": "integer"
        },
        {
         "name": "GAME_ID",
         "rawType": "object",
         "type": "string"
        },
        {
         "name": "EVENTNUM",
         "rawType": "int64",
         "type": "integer"
        },
        {
         "name": "EVENTMSGTYPE",
         "rawType": "int64",
         "type": "integer"
        },
        {
         "name": "EVENTMSGACTIONTYPE",
         "rawType": "int64",
         "type": "integer"
        },
        {
         "name": "PERIOD",
         "rawType": "int64",
         "type": "integer"
        },
        {
         "name": "WCTIMESTRING",
         "rawType": "object",
         "type": "string"
        },
        {
         "name": "PCTIMESTRING",
         "rawType": "object",
         "type": "string"
        },
        {
         "name": "HOMEDESCRIPTION",
         "rawType": "object",
         "type": "unknown"
        },
        {
         "name": "NEUTRALDESCRIPTION",
         "rawType": "object",
         "type": "unknown"
        },
        {
         "name": "VISITORDESCRIPTION",
         "rawType": "object",
         "type": "unknown"
        },
        {
         "name": "SCORE",
         "rawType": "object",
         "type": "unknown"
        },
        {
         "name": "SCOREMARGIN",
         "rawType": "object",
         "type": "unknown"
        },
        {
         "name": "PERSON1TYPE",
         "rawType": "int64",
         "type": "integer"
        },
        {
         "name": "PLAYER1_ID",
         "rawType": "int64",
         "type": "integer"
        },
        {
         "name": "PLAYER1_NAME",
         "rawType": "object",
         "type": "unknown"
        },
        {
         "name": "PLAYER1_TEAM_ID",
         "rawType": "float64",
         "type": "float"
        },
        {
         "name": "PLAYER1_TEAM_CITY",
         "rawType": "object",
         "type": "unknown"
        },
        {
         "name": "PLAYER1_TEAM_NICKNAME",
         "rawType": "object",
         "type": "unknown"
        },
        {
         "name": "PLAYER1_TEAM_ABBREVIATION",
         "rawType": "object",
         "type": "unknown"
        },
        {
         "name": "PERSON2TYPE",
         "rawType": "int64",
         "type": "integer"
        },
        {
         "name": "PLAYER2_ID",
         "rawType": "int64",
         "type": "integer"
        },
        {
         "name": "PLAYER2_NAME",
         "rawType": "object",
         "type": "unknown"
        },
        {
         "name": "PLAYER2_TEAM_ID",
         "rawType": "float64",
         "type": "float"
        },
        {
         "name": "PLAYER2_TEAM_CITY",
         "rawType": "object",
         "type": "unknown"
        },
        {
         "name": "PLAYER2_TEAM_NICKNAME",
         "rawType": "object",
         "type": "unknown"
        },
        {
         "name": "PLAYER2_TEAM_ABBREVIATION",
         "rawType": "object",
         "type": "unknown"
        },
        {
         "name": "PERSON3TYPE",
         "rawType": "int64",
         "type": "integer"
        },
        {
         "name": "PLAYER3_ID",
         "rawType": "int64",
         "type": "integer"
        },
        {
         "name": "PLAYER3_NAME",
         "rawType": "object",
         "type": "unknown"
        },
        {
         "name": "PLAYER3_TEAM_ID",
         "rawType": "float64",
         "type": "float"
        },
        {
         "name": "PLAYER3_TEAM_CITY",
         "rawType": "object",
         "type": "unknown"
        },
        {
         "name": "PLAYER3_TEAM_NICKNAME",
         "rawType": "object",
         "type": "unknown"
        },
        {
         "name": "PLAYER3_TEAM_ABBREVIATION",
         "rawType": "object",
         "type": "unknown"
        },
        {
         "name": "VIDEO_AVAILABLE_FLAG",
         "rawType": "int64",
         "type": "integer"
        }
       ],
       "ref": "9795e8a0-8969-4ab0-95ee-37f9b345bd08",
       "rows": [
        [
         "0",
         "0042400402",
         "2",
         "12",
         "0",
         "1",
         "8:08 PM",
         "12:00",
         null,
         "Start of 1st Period (8:08 PM EST)",
         null,
         null,
         null,
         "0",
         "0",
         null,
         null,
         null,
         null,
         null,
         "0",
         "0",
         null,
         null,
         null,
         null,
         null,
         "0",
         "0",
         null,
         null,
         null,
         null,
         null,
         "0"
        ],
        [
         "1",
         "0042400402",
         "4",
         "10",
         "0",
         "1",
         "8:08 PM",
         "12:00",
         "Jump Ball Holmgren vs. Turner: Tip to Dort",
         null,
         null,
         null,
         null,
         "4",
         "1631096",
         "Chet Holmgren",
         "1610612760.0",
         "Oklahoma City",
         "Thunder",
         "OKC",
         "5",
         "1626167",
         "Myles Turner",
         "1610612754.0",
         "Indiana",
         "Pacers",
         "IND",
         "4",
         "1629652",
         "Luguentz Dort",
         "1610612760.0",
         "Oklahoma City",
         "Thunder",
         "OKC",
         "1"
        ],
        [
         "2",
         "0042400402",
         "7",
         "1",
         "6",
         "1",
         "8:08 PM",
         "11:46",
         "Wallace 2' Driving Layup (2 PTS) (Jal. Williams 1 AST)",
         null,
         null,
         "0 - 2",
         "2",
         "4",
         "1641717",
         "Cason Wallace",
         "1610612760.0",
         "Oklahoma City",
         "Thunder",
         "OKC",
         "4",
         "1631114",
         "Jalen Williams",
         "1610612760.0",
         "Oklahoma City",
         "Thunder",
         "OKC",
         "0",
         "0",
         null,
         null,
         null,
         null,
         null,
         "1"
        ],
        [
         "3",
         "0042400402",
         "9",
         "1",
         "1",
         "1",
         "8:08 PM",
         "11:32",
         null,
         null,
         "Siakam 26' 3PT Jump Shot (3 PTS) (Haliburton 1 AST)",
         "3 - 2",
         "-1",
         "5",
         "1627783",
         "Pascal Siakam",
         "1610612754.0",
         "Indiana",
         "Pacers",
         "IND",
         "5",
         "1630169",
         "Tyrese Haliburton",
         "1610612754.0",
         "Indiana",
         "Pacers",
         "IND",
         "0",
         "0",
         null,
         null,
         null,
         null,
         null,
         "1"
        ],
        [
         "4",
         "0042400402",
         "11",
         "2",
         "6",
         "1",
         "8:09 PM",
         "11:14",
         "MISS Holmgren 1' Driving Layup",
         null,
         null,
         null,
         null,
         "4",
         "1631096",
         "Chet Holmgren",
         "1610612760.0",
         "Oklahoma City",
         "Thunder",
         "OKC",
         "0",
         "0",
         null,
         null,
         null,
         null,
         null,
         "0",
         "0",
         null,
         null,
         null,
         null,
         null,
         "1"
        ],
        [
         "5",
         "0042400402",
         "12",
         "4",
         "0",
         "1",
         "8:09 PM",
         "11:14",
         "Holmgren REBOUND (Off:1 Def:0)",
         null,
         null,
         null,
         null,
         "4",
         "1631096",
         "Chet Holmgren",
         "1610612760.0",
         "Oklahoma City",
         "Thunder",
         "OKC",
         "0",
         "0",
         null,
         null,
         null,
         null,
         null,
         "0",
         "0",
         null,
         null,
         null,
         null,
         null,
         "1"
        ],
        [
         "6",
         "0042400402",
         "13",
         "1",
         "72",
         "1",
         "8:09 PM",
         "11:12",
         "Holmgren 2' Putback Layup (2 PTS)",
         null,
         null,
         "3 - 4",
         "1",
         "4",
         "1631096",
         "Chet Holmgren",
         "1610612760.0",
         "Oklahoma City",
         "Thunder",
         "OKC",
         "0",
         "0",
         null,
         null,
         null,
         null,
         null,
         "0",
         "0",
         null,
         null,
         null,
         null,
         null,
         "1"
        ],
        [
         "7",
         "0042400402",
         "14",
         "2",
         "1",
         "1",
         "8:09 PM",
         "10:58",
         null,
         null,
         "MISS Nesmith 24' 3PT Jump Shot",
         null,
         null,
         "5",
         "1630174",
         "Aaron Nesmith",
         "1610612754.0",
         "Indiana",
         "Pacers",
         "IND",
         "0",
         "0",
         null,
         null,
         null,
         null,
         null,
         "0",
         "0",
         null,
         null,
         null,
         null,
         null,
         "1"
        ],
        [
         "8",
         "0042400402",
         "15",
         "4",
         "0",
         "1",
         "8:09 PM",
         "10:55",
         "Jal. Williams REBOUND (Off:0 Def:1)",
         null,
         null,
         null,
         null,
         "4",
         "1631114",
         "Jalen Williams",
         "1610612760.0",
         "Oklahoma City",
         "Thunder",
         "OKC",
         "0",
         "0",
         null,
         null,
         null,
         null,
         null,
         "0",
         "0",
         null,
         null,
         null,
         null,
         null,
         "1"
        ],
        [
         "9",
         "0042400402",
         "16",
         "2",
         "2",
         "1",
         "8:09 PM",
         "10:51",
         "MISS Dort 3PT Running Jump Shot",
         null,
         null,
         null,
         null,
         "4",
         "1629652",
         "Luguentz Dort",
         "1610612760.0",
         "Oklahoma City",
         "Thunder",
         "OKC",
         "0",
         "0",
         null,
         null,
         null,
         null,
         null,
         "0",
         "0",
         null,
         null,
         null,
         null,
         null,
         "1"
        ],
        [
         "10",
         "0042400402",
         "17",
         "4",
         "0",
         "1",
         "8:09 PM",
         "10:49",
         null,
         null,
         "Siakam REBOUND (Off:0 Def:1)",
         null,
         null,
         "5",
         "1627783",
         "Pascal Siakam",
         "1610612754.0",
         "Indiana",
         "Pacers",
         "IND",
         "0",
         "0",
         null,
         null,
         null,
         null,
         null,
         "0",
         "0",
         null,
         null,
         null,
         null,
         null,
         "1"
        ],
        [
         "11",
         "0042400402",
         "18",
         "1",
         "80",
         "1",
         "8:09 PM",
         "10:29",
         null,
         null,
         "Nembhard 20' Step Back Jump Shot (2 PTS)",
         "5 - 4",
         "-1",
         "5",
         "1629614",
         "Andrew Nembhard",
         "1610612754.0",
         "Indiana",
         "Pacers",
         "IND",
         "0",
         "0",
         null,
         null,
         null,
         null,
         null,
         "0",
         "0",
         null,
         null,
         null,
         null,
         null,
         "1"
        ],
        [
         "12",
         "0042400402",
         "19",
         "2",
         "1",
         "1",
         "8:10 PM",
         "10:13",
         "MISS Wallace 3PT Jump Shot",
         null,
         null,
         null,
         null,
         "4",
         "1641717",
         "Cason Wallace",
         "1610612760.0",
         "Oklahoma City",
         "Thunder",
         "OKC",
         "0",
         "0",
         null,
         null,
         null,
         null,
         null,
         "0",
         "0",
         null,
         null,
         null,
         null,
         null,
         "1"
        ],
        [
         "13",
         "0042400402",
         "20",
         "4",
         "0",
         "1",
         "8:10 PM",
         "10:10",
         null,
         null,
         "Pacers Rebound",
         null,
         null,
         "3",
         "1610612754",
         null,
         null,
         null,
         null,
         null,
         "0",
         "0",
         null,
         null,
         null,
         null,
         null,
         "0",
         "0",
         null,
         null,
         null,
         null,
         null,
         "0"
        ],
        [
         "14",
         "0042400402",
         "26",
         "2",
         "79",
         "1",
         "8:11 PM",
         "9:49",
         null,
         null,
         "MISS Nembhard 22' Pullup Jump Shot",
         null,
         null,
         "5",
         "1629614",
         "Andrew Nembhard",
         "1610612754.0",
         "Indiana",
         "Pacers",
         "IND",
         "0",
         "0",
         null,
         null,
         null,
         null,
         null,
         "0",
         "0",
         null,
         null,
         null,
         null,
         null,
         "1"
        ],
        [
         "15",
         "0042400402",
         "27",
         "4",
         "0",
         "1",
         "8:11 PM",
         "9:45",
         "Dort REBOUND (Off:0 Def:1)",
         null,
         null,
         null,
         null,
         "4",
         "1629652",
         "Luguentz Dort",
         "1610612760.0",
         "Oklahoma City",
         "Thunder",
         "OKC",
         "0",
         "0",
         null,
         null,
         null,
         null,
         null,
         "0",
         "0",
         null,
         null,
         null,
         null,
         null,
         "1"
        ],
        [
         "16",
         "0042400402",
         "28",
         "1",
         "1",
         "1",
         "8:11 PM",
         "9:36",
         "Dort 28' 3PT Jump Shot (3 PTS) (Gilgeous-Alexander 1 AST)",
         null,
         null,
         "5 - 7",
         "2",
         "4",
         "1629652",
         "Luguentz Dort",
         "1610612760.0",
         "Oklahoma City",
         "Thunder",
         "OKC",
         "4",
         "1628983",
         "Shai Gilgeous-Alexander",
         "1610612760.0",
         "Oklahoma City",
         "Thunder",
         "OKC",
         "0",
         "0",
         null,
         null,
         null,
         null,
         null,
         "1"
        ],
        [
         "17",
         "0042400402",
         "30",
         "5",
         "4",
         "1",
         "8:11 PM",
         "9:18",
         null,
         null,
         "Siakam Traveling Turnover (P1.T1)",
         null,
         null,
         "5",
         "1627783",
         "Pascal Siakam",
         "1610612754.0",
         "Indiana",
         "Pacers",
         "IND",
         "0",
         "0",
         null,
         null,
         null,
         null,
         null,
         "1",
         "0",
         null,
         null,
         null,
         null,
         null,
         "1"
        ],
        [
         "18",
         "0042400402",
         "31",
         "5",
         "2",
         "1",
         "8:12 PM",
         "9:01",
         "Jal. Williams Lost Ball Turnover (P1.T1)",
         null,
         "Nembhard STEAL (1 STL)",
         null,
         null,
         "4",
         "1631114",
         "Jalen Williams",
         "1610612760.0",
         "Oklahoma City",
         "Thunder",
         "OKC",
         "5",
         "1629614",
         "Andrew Nembhard",
         "1610612754.0",
         "Indiana",
         "Pacers",
         "IND",
         "0",
         "0",
         null,
         null,
         null,
         null,
         null,
         "1"
        ],
        [
         "19",
         "0042400402",
         "34",
         "2",
         "1",
         "1",
         "8:13 PM",
         "8:40",
         null,
         null,
         "MISS Siakam 27' 3PT Jump Shot",
         null,
         null,
         "5",
         "1627783",
         "Pascal Siakam",
         "1610612754.0",
         "Indiana",
         "Pacers",
         "IND",
         "0",
         "0",
         null,
         null,
         null,
         null,
         null,
         "0",
         "0",
         null,
         null,
         null,
         null,
         null,
         "1"
        ],
        [
         "20",
         "0042400402",
         "35",
         "4",
         "0",
         "1",
         "8:13 PM",
         "8:37",
         "THUNDER Rebound",
         null,
         null,
         null,
         null,
         "2",
         "1610612760",
         null,
         null,
         null,
         null,
         null,
         "0",
         "0",
         null,
         null,
         null,
         null,
         null,
         "0",
         "0",
         null,
         null,
         null,
         null,
         null,
         "1"
        ],
        [
         "21",
         "0042400402",
         "37",
         "1",
         "79",
         "1",
         "8:13 PM",
         "8:24",
         "Gilgeous-Alexander 10' Pullup Jump Shot (2 PTS)",
         null,
         null,
         "5 - 9",
         "4",
         "4",
         "1628983",
         "Shai Gilgeous-Alexander",
         "1610612760.0",
         "Oklahoma City",
         "Thunder",
         "OKC",
         "0",
         "0",
         null,
         null,
         null,
         null,
         null,
         "0",
         "0",
         null,
         null,
         null,
         null,
         null,
         "1"
        ],
        [
         "22",
         "0042400402",
         "38",
         "1",
         "66",
         "1",
         "8:13 PM",
         "8:08",
         null,
         null,
         "Turner 14' Jump Bank Shot (2 PTS) (Siakam 1 AST)",
         "7 - 9",
         "2",
         "5",
         "1626167",
         "Myles Turner",
         "1610612754.0",
         "Indiana",
         "Pacers",
         "IND",
         "5",
         "1627783",
         "Pascal Siakam",
         "1610612754.0",
         "Indiana",
         "Pacers",
         "IND",
         "0",
         "0",
         null,
         null,
         null,
         null,
         null,
         "1"
        ],
        [
         "23",
         "0042400402",
         "40",
         "1",
         "1",
         "1",
         "8:14 PM",
         "7:52",
         "Gilgeous-Alexander 3PT Jump Shot (5 PTS) (Jal. Williams 2 AST)",
         null,
         null,
         "7 - 12",
         "5",
         "4",
         "1628983",
         "Shai Gilgeous-Alexander",
         "1610612760.0",
         "Oklahoma City",
         "Thunder",
         "OKC",
         "4",
         "1631114",
         "Jalen Williams",
         "1610612760.0",
         "Oklahoma City",
         "Thunder",
         "OKC",
         "0",
         "0",
         null,
         null,
         null,
         null,
         null,
         "1"
        ],
        [
         "24",
         "0042400402",
         "42",
         "1",
         "1",
         "1",
         "8:14 PM",
         "7:39",
         null,
         null,
         "Nembhard 3PT Jump Shot (5 PTS) (Haliburton 2 AST)",
         "10 - 12",
         "2",
         "5",
         "1629614",
         "Andrew Nembhard",
         "1610612754.0",
         "Indiana",
         "Pacers",
         "IND",
         "5",
         "1630169",
         "Tyrese Haliburton",
         "1610612754.0",
         "Indiana",
         "Pacers",
         "IND",
         "0",
         "0",
         null,
         null,
         null,
         null,
         null,
         "1"
        ],
        [
         "25",
         "0042400402",
         "44",
         "2",
         "6",
         "1",
         "8:14 PM",
         "7:29",
         "MISS Jal. Williams 8' Driving Layup",
         null,
         "Haliburton BLOCK (1 BLK)",
         null,
         null,
         "4",
         "1631114",
         "Jalen Williams",
         "1610612760.0",
         "Oklahoma City",
         "Thunder",
         "OKC",
         "0",
         "0",
         null,
         null,
         null,
         null,
         null,
         "5",
         "1630169",
         "Tyrese Haliburton",
         "1610612754.0",
         "Indiana",
         "Pacers",
         "IND",
         "1"
        ],
        [
         "26",
         "0042400402",
         "46",
         "4",
         "0",
         "1",
         "8:14 PM",
         "7:28",
         null,
         null,
         "Haliburton REBOUND (Off:0 Def:1)",
         null,
         null,
         "5",
         "1630169",
         "Tyrese Haliburton",
         "1610612754.0",
         "Indiana",
         "Pacers",
         "IND",
         "0",
         "0",
         null,
         null,
         null,
         null,
         null,
         "0",
         "0",
         null,
         null,
         null,
         null,
         null,
         "1"
        ],
        [
         "27",
         "0042400402",
         "47",
         "2",
         "41",
         "1",
         "8:14 PM",
         "7:22",
         null,
         null,
         "MISS Siakam 1' Running Layup",
         null,
         null,
         "5",
         "1627783",
         "Pascal Siakam",
         "1610612754.0",
         "Indiana",
         "Pacers",
         "IND",
         "0",
         "0",
         null,
         null,
         null,
         null,
         null,
         "0",
         "0",
         null,
         null,
         null,
         null,
         null,
         "1"
        ],
        [
         "28",
         "0042400402",
         "48",
         "4",
         "0",
         "1",
         "8:14 PM",
         "7:22",
         "Dort REBOUND (Off:0 Def:2)",
         null,
         null,
         null,
         null,
         "4",
         "1629652",
         "Luguentz Dort",
         "1610612760.0",
         "Oklahoma City",
         "Thunder",
         "OKC",
         "0",
         "0",
         null,
         null,
         null,
         null,
         null,
         "0",
         "0",
         null,
         null,
         null,
         null,
         null,
         "1"
        ],
        [
         "29",
         "0042400402",
         "49",
         "5",
         "40",
         "1",
         "8:14 PM",
         "7:14",
         "Holmgren Out of Bounds Lost Ball Turnover (P1.T2)",
         null,
         null,
         null,
         null,
         "4",
         "1631096",
         "Chet Holmgren",
         "1610612760.0",
         "Oklahoma City",
         "Thunder",
         "OKC",
         "0",
         "0",
         null,
         null,
         null,
         null,
         null,
         "1",
         "0",
         null,
         null,
         null,
         null,
         null,
         "1"
        ],
        [
         "30",
         "0042400402",
         "50",
         "2",
         "79",
         "1",
         "8:14 PM",
         "7:03",
         null,
         null,
         "MISS Haliburton 26' 3PT Pullup Jump Shot",
         null,
         null,
         "5",
         "1630169",
         "Tyrese Haliburton",
         "1610612754.0",
         "Indiana",
         "Pacers",
         "IND",
         "0",
         "0",
         null,
         null,
         null,
         null,
         null,
         "0",
         "0",
         null,
         null,
         null,
         null,
         null,
         "1"
        ],
        [
         "31",
         "0042400402",
         "51",
         "4",
         "0",
         "1",
         "8:15 PM",
         "6:59",
         "Jal. Williams REBOUND (Off:0 Def:2)",
         null,
         null,
         null,
         null,
         "4",
         "1631114",
         "Jalen Williams",
         "1610612760.0",
         "Oklahoma City",
         "Thunder",
         "OKC",
         "0",
         "0",
         null,
         null,
         null,
         null,
         null,
         "0",
         "0",
         null,
         null,
         null,
         null,
         null,
         "1"
        ],
        [
         "32",
         "0042400402",
         "52",
         "5",
         "2",
         "1",
         "8:15 PM",
         "6:55",
         "Gilgeous-Alexander Lost Ball Turnover (P1.T3)",
         null,
         "Haliburton STEAL (1 STL)",
         null,
         null,
         "4",
         "1628983",
         "Shai Gilgeous-Alexander",
         "1610612760.0",
         "Oklahoma City",
         "Thunder",
         "OKC",
         "5",
         "1630169",
         "Tyrese Haliburton",
         "1610612754.0",
         "Indiana",
         "Pacers",
         "IND",
         "0",
         "0",
         null,
         null,
         null,
         null,
         null,
         "1"
        ],
        [
         "33",
         "0042400402",
         "54",
         "6",
         "2",
         "1",
         "8:15 PM",
         "6:40",
         "Wallace S.FOUL (P1.T1) (J.Williams)",
         null,
         null,
         null,
         null,
         "4",
         "1641717",
         "Cason Wallace",
         "1610612760.0",
         "Oklahoma City",
         "Thunder",
         "OKC",
         "5",
         "1629614",
         "Andrew Nembhard",
         "1610612754.0",
         "Indiana",
         "Pacers",
         "IND",
         "1",
         "0",
         null,
         null,
         null,
         null,
         null,
         "1"
        ],
        [
         "34",
         "0042400402",
         "56",
         "9",
         "1",
         "1",
         "8:15 PM",
         "6:40",
         "THUNDER Timeout: Regular (Full 1 Short 0)",
         null,
         null,
         null,
         null,
         "2",
         "1610612760",
         null,
         null,
         null,
         null,
         null,
         "0",
         "0",
         null,
         null,
         null,
         null,
         null,
         "0",
         "0",
         null,
         null,
         null,
         null,
         null,
         "0"
        ],
        [
         "35",
         "0042400402",
         "57",
         "8",
         "0",
         "1",
         "8:17 PM",
         "6:40",
         "SUB: Hartenstein FOR Holmgren",
         null,
         null,
         null,
         null,
         "4",
         "1631096",
         "Chet Holmgren",
         "1610612760.0",
         "Oklahoma City",
         "Thunder",
         "OKC",
         "4",
         "1628392",
         "Isaiah Hartenstein",
         "1610612760.0",
         "Oklahoma City",
         "Thunder",
         "OKC",
         "0",
         "0",
         null,
         null,
         null,
         null,
         null,
         "0"
        ],
        [
         "36",
         "0042400402",
         "58",
         "8",
         "0",
         "1",
         "8:17 PM",
         "6:40",
         null,
         null,
         "SUB: Mathurin FOR Siakam",
         null,
         null,
         "5",
         "1627783",
         "Pascal Siakam",
         "1610612754.0",
         "Indiana",
         "Pacers",
         "IND",
         "5",
         "1631097",
         "Bennedict Mathurin",
         "1610612754.0",
         "Indiana",
         "Pacers",
         "IND",
         "0",
         "0",
         null,
         null,
         null,
         null,
         null,
         "0"
        ],
        [
         "37",
         "0042400402",
         "59",
         "8",
         "0",
         "1",
         "8:17 PM",
         "6:40",
         null,
         null,
         "SUB: Toppin FOR Nesmith",
         null,
         null,
         "5",
         "1630174",
         "Aaron Nesmith",
         "1610612754.0",
         "Indiana",
         "Pacers",
         "IND",
         "5",
         "1630167",
         "Obi Toppin",
         "1610612754.0",
         "Indiana",
         "Pacers",
         "IND",
         "0",
         "0",
         null,
         null,
         null,
         null,
         null,
         "0"
        ],
        [
         "38",
         "0042400402",
         "63",
         "3",
         "11",
         "1",
         "8:19 PM",
         "6:40",
         null,
         null,
         "MISS Nembhard Free Throw 1 of 2",
         null,
         null,
         "5",
         "1629614",
         "Andrew Nembhard",
         "1610612754.0",
         "Indiana",
         "Pacers",
         "IND",
         "0",
         "0",
         null,
         null,
         null,
         null,
         null,
         "0",
         "0",
         null,
         null,
         null,
         null,
         null,
         "1"
        ],
        [
         "39",
         "0042400402",
         "64",
         "4",
         "1",
         "1",
         "8:19 PM",
         "6:40",
         null,
         null,
         "Pacers Rebound",
         null,
         null,
         "3",
         "1610612754",
         null,
         null,
         null,
         null,
         null,
         "0",
         "0",
         null,
         null,
         null,
         null,
         null,
         "0",
         "0",
         null,
         null,
         null,
         null,
         null,
         "0"
        ],
        [
         "40",
         "0042400402",
         "65",
         "3",
         "12",
         "1",
         "8:19 PM",
         "6:40",
         null,
         null,
         "Nembhard Free Throw 2 of 2 (6 PTS)",
         "11 - 12",
         "1",
         "5",
         "1629614",
         "Andrew Nembhard",
         "1610612754.0",
         "Indiana",
         "Pacers",
         "IND",
         "0",
         "0",
         null,
         null,
         null,
         null,
         null,
         "0",
         "0",
         null,
         null,
         null,
         null,
         null,
         "1"
        ],
        [
         "41",
         "0042400402",
         "66",
         "6",
         "2",
         "1",
         "8:19 PM",
         "6:22",
         null,
         null,
         "Mathurin S.FOUL (P1.T1) (J.Williams)",
         null,
         null,
         "5",
         "1631097",
         "Bennedict Mathurin",
         "1610612754.0",
         "Indiana",
         "Pacers",
         "IND",
         "4",
         "1628983",
         "Shai Gilgeous-Alexander",
         "1610612760.0",
         "Oklahoma City",
         "Thunder",
         "OKC",
         "1",
         "0",
         null,
         null,
         null,
         null,
         null,
         "1"
        ],
        [
         "42",
         "0042400402",
         "68",
         "3",
         "11",
         "1",
         "8:20 PM",
         "6:22",
         "Gilgeous-Alexander Free Throw 1 of 2 (6 PTS)",
         null,
         null,
         "11 - 13",
         "2",
         "4",
         "1628983",
         "Shai Gilgeous-Alexander",
         "1610612760.0",
         "Oklahoma City",
         "Thunder",
         "OKC",
         "0",
         "0",
         null,
         null,
         null,
         null,
         null,
         "0",
         "0",
         null,
         null,
         null,
         null,
         null,
         "1"
        ],
        [
         "43",
         "0042400402",
         "69",
         "3",
         "12",
         "1",
         "8:20 PM",
         "6:22",
         "MISS Gilgeous-Alexander Free Throw 2 of 2",
         null,
         null,
         null,
         null,
         "4",
         "1628983",
         "Shai Gilgeous-Alexander",
         "1610612760.0",
         "Oklahoma City",
         "Thunder",
         "OKC",
         "0",
         "0",
         null,
         null,
         null,
         null,
         null,
         "0",
         "0",
         null,
         null,
         null,
         null,
         null,
         "1"
        ],
        [
         "44",
         "0042400402",
         "70",
         "4",
         "0",
         "1",
         "8:20 PM",
         "6:21",
         null,
         null,
         "Toppin REBOUND (Off:0 Def:1)",
         null,
         null,
         "5",
         "1630167",
         "Obi Toppin",
         "1610612754.0",
         "Indiana",
         "Pacers",
         "IND",
         "0",
         "0",
         null,
         null,
         null,
         null,
         null,
         "0",
         "0",
         null,
         null,
         null,
         null,
         null,
         "1"
        ],
        [
         "45",
         "0042400402",
         "71",
         "2",
         "1",
         "1",
         "8:20 PM",
         "6:03",
         null,
         null,
         "MISS Turner 26' 3PT Jump Shot",
         null,
         null,
         "5",
         "1626167",
         "Myles Turner",
         "1610612754.0",
         "Indiana",
         "Pacers",
         "IND",
         "0",
         "0",
         null,
         null,
         null,
         null,
         null,
         "0",
         "0",
         null,
         null,
         null,
         null,
         null,
         "1"
        ],
        [
         "46",
         "0042400402",
         "72",
         "4",
         "0",
         "1",
         "8:20 PM",
         "6:00",
         null,
         null,
         "Nembhard REBOUND (Off:1 Def:0)",
         null,
         null,
         "5",
         "1629614",
         "Andrew Nembhard",
         "1610612754.0",
         "Indiana",
         "Pacers",
         "IND",
         "0",
         "0",
         null,
         null,
         null,
         null,
         null,
         "0",
         "0",
         null,
         null,
         null,
         null,
         null,
         "1"
        ],
        [
         "47",
         "0042400402",
         "73",
         "6",
         "1",
         "1",
         "8:21 PM",
         "5:57",
         "Dort P.FOUL (P1.T2) (Z.Zarba)",
         null,
         null,
         null,
         null,
         "4",
         "1629652",
         "Luguentz Dort",
         "1610612760.0",
         "Oklahoma City",
         "Thunder",
         "OKC",
         "5",
         "1630169",
         "Tyrese Haliburton",
         "1610612754.0",
         "Indiana",
         "Pacers",
         "IND",
         "1",
         "0",
         null,
         null,
         null,
         null,
         null,
         "1"
        ],
        [
         "48",
         "0042400402",
         "75",
         "5",
         "2",
         "1",
         "8:21 PM",
         "5:44",
         "Dort STEAL (1 STL)",
         null,
         "Mathurin Lost Ball Turnover (P1.T2)",
         null,
         null,
         "5",
         "1631097",
         "Bennedict Mathurin",
         "1610612754.0",
         "Indiana",
         "Pacers",
         "IND",
         "4",
         "1629652",
         "Luguentz Dort",
         "1610612760.0",
         "Oklahoma City",
         "Thunder",
         "OKC",
         "0",
         "0",
         null,
         null,
         null,
         null,
         null,
         "1"
        ],
        [
         "49",
         "0042400402",
         "78",
         "8",
         "0",
         "1",
         "8:22 PM",
         "5:31",
         "SUB: Caruso FOR Wallace",
         null,
         null,
         null,
         null,
         "4",
         "1641717",
         "Cason Wallace",
         "1610612760.0",
         "Oklahoma City",
         "Thunder",
         "OKC",
         "4",
         "1627936",
         "Alex Caruso",
         "1610612760.0",
         "Oklahoma City",
         "Thunder",
         "OKC",
         "0",
         "0",
         null,
         null,
         null,
         null,
         null,
         "0"
        ]
       ],
       "shape": {
        "columns": 34,
        "rows": 487
       }
      },
      "text/html": [
       "<div>\n",
       "<style scoped>\n",
       "    .dataframe tbody tr th:only-of-type {\n",
       "        vertical-align: middle;\n",
       "    }\n",
       "\n",
       "    .dataframe tbody tr th {\n",
       "        vertical-align: top;\n",
       "    }\n",
       "\n",
       "    .dataframe thead th {\n",
       "        text-align: right;\n",
       "    }\n",
       "</style>\n",
       "<table border=\"1\" class=\"dataframe\">\n",
       "  <thead>\n",
       "    <tr style=\"text-align: right;\">\n",
       "      <th></th>\n",
       "      <th>GAME_ID</th>\n",
       "      <th>EVENTNUM</th>\n",
       "      <th>EVENTMSGTYPE</th>\n",
       "      <th>EVENTMSGACTIONTYPE</th>\n",
       "      <th>PERIOD</th>\n",
       "      <th>WCTIMESTRING</th>\n",
       "      <th>PCTIMESTRING</th>\n",
       "      <th>HOMEDESCRIPTION</th>\n",
       "      <th>NEUTRALDESCRIPTION</th>\n",
       "      <th>VISITORDESCRIPTION</th>\n",
       "      <th>...</th>\n",
       "      <th>PLAYER2_TEAM_NICKNAME</th>\n",
       "      <th>PLAYER2_TEAM_ABBREVIATION</th>\n",
       "      <th>PERSON3TYPE</th>\n",
       "      <th>PLAYER3_ID</th>\n",
       "      <th>PLAYER3_NAME</th>\n",
       "      <th>PLAYER3_TEAM_ID</th>\n",
       "      <th>PLAYER3_TEAM_CITY</th>\n",
       "      <th>PLAYER3_TEAM_NICKNAME</th>\n",
       "      <th>PLAYER3_TEAM_ABBREVIATION</th>\n",
       "      <th>VIDEO_AVAILABLE_FLAG</th>\n",
       "    </tr>\n",
       "  </thead>\n",
       "  <tbody>\n",
       "    <tr>\n",
       "      <th>0</th>\n",
       "      <td>0042400402</td>\n",
       "      <td>2</td>\n",
       "      <td>12</td>\n",
       "      <td>0</td>\n",
       "      <td>1</td>\n",
       "      <td>8:08 PM</td>\n",
       "      <td>12:00</td>\n",
       "      <td>None</td>\n",
       "      <td>Start of 1st Period (8:08 PM EST)</td>\n",
       "      <td>None</td>\n",
       "      <td>...</td>\n",
       "      <td>None</td>\n",
       "      <td>None</td>\n",
       "      <td>0</td>\n",
       "      <td>0</td>\n",
       "      <td>None</td>\n",
       "      <td>NaN</td>\n",
       "      <td>None</td>\n",
       "      <td>None</td>\n",
       "      <td>None</td>\n",
       "      <td>0</td>\n",
       "    </tr>\n",
       "    <tr>\n",
       "      <th>1</th>\n",
       "      <td>0042400402</td>\n",
       "      <td>4</td>\n",
       "      <td>10</td>\n",
       "      <td>0</td>\n",
       "      <td>1</td>\n",
       "      <td>8:08 PM</td>\n",
       "      <td>12:00</td>\n",
       "      <td>Jump Ball Holmgren vs. Turner: Tip to Dort</td>\n",
       "      <td>None</td>\n",
       "      <td>None</td>\n",
       "      <td>...</td>\n",
       "      <td>Pacers</td>\n",
       "      <td>IND</td>\n",
       "      <td>4</td>\n",
       "      <td>1629652</td>\n",
       "      <td>Luguentz Dort</td>\n",
       "      <td>1.610613e+09</td>\n",
       "      <td>Oklahoma City</td>\n",
       "      <td>Thunder</td>\n",
       "      <td>OKC</td>\n",
       "      <td>1</td>\n",
       "    </tr>\n",
       "    <tr>\n",
       "      <th>2</th>\n",
       "      <td>0042400402</td>\n",
       "      <td>7</td>\n",
       "      <td>1</td>\n",
       "      <td>6</td>\n",
       "      <td>1</td>\n",
       "      <td>8:08 PM</td>\n",
       "      <td>11:46</td>\n",
       "      <td>Wallace 2' Driving Layup (2 PTS) (Jal. William...</td>\n",
       "      <td>None</td>\n",
       "      <td>None</td>\n",
       "      <td>...</td>\n",
       "      <td>Thunder</td>\n",
       "      <td>OKC</td>\n",
       "      <td>0</td>\n",
       "      <td>0</td>\n",
       "      <td>None</td>\n",
       "      <td>NaN</td>\n",
       "      <td>None</td>\n",
       "      <td>None</td>\n",
       "      <td>None</td>\n",
       "      <td>1</td>\n",
       "    </tr>\n",
       "    <tr>\n",
       "      <th>3</th>\n",
       "      <td>0042400402</td>\n",
       "      <td>9</td>\n",
       "      <td>1</td>\n",
       "      <td>1</td>\n",
       "      <td>1</td>\n",
       "      <td>8:08 PM</td>\n",
       "      <td>11:32</td>\n",
       "      <td>None</td>\n",
       "      <td>None</td>\n",
       "      <td>Siakam 26' 3PT Jump Shot (3 PTS) (Haliburton 1...</td>\n",
       "      <td>...</td>\n",
       "      <td>Pacers</td>\n",
       "      <td>IND</td>\n",
       "      <td>0</td>\n",
       "      <td>0</td>\n",
       "      <td>None</td>\n",
       "      <td>NaN</td>\n",
       "      <td>None</td>\n",
       "      <td>None</td>\n",
       "      <td>None</td>\n",
       "      <td>1</td>\n",
       "    </tr>\n",
       "    <tr>\n",
       "      <th>4</th>\n",
       "      <td>0042400402</td>\n",
       "      <td>11</td>\n",
       "      <td>2</td>\n",
       "      <td>6</td>\n",
       "      <td>1</td>\n",
       "      <td>8:09 PM</td>\n",
       "      <td>11:14</td>\n",
       "      <td>MISS Holmgren 1' Driving Layup</td>\n",
       "      <td>None</td>\n",
       "      <td>None</td>\n",
       "      <td>...</td>\n",
       "      <td>None</td>\n",
       "      <td>None</td>\n",
       "      <td>0</td>\n",
       "      <td>0</td>\n",
       "      <td>None</td>\n",
       "      <td>NaN</td>\n",
       "      <td>None</td>\n",
       "      <td>None</td>\n",
       "      <td>None</td>\n",
       "      <td>1</td>\n",
       "    </tr>\n",
       "    <tr>\n",
       "      <th>...</th>\n",
       "      <td>...</td>\n",
       "      <td>...</td>\n",
       "      <td>...</td>\n",
       "      <td>...</td>\n",
       "      <td>...</td>\n",
       "      <td>...</td>\n",
       "      <td>...</td>\n",
       "      <td>...</td>\n",
       "      <td>...</td>\n",
       "      <td>...</td>\n",
       "      <td>...</td>\n",
       "      <td>...</td>\n",
       "      <td>...</td>\n",
       "      <td>...</td>\n",
       "      <td>...</td>\n",
       "      <td>...</td>\n",
       "      <td>...</td>\n",
       "      <td>...</td>\n",
       "      <td>...</td>\n",
       "      <td>...</td>\n",
       "      <td>...</td>\n",
       "    </tr>\n",
       "    <tr>\n",
       "      <th>482</th>\n",
       "      <td>0042400402</td>\n",
       "      <td>743</td>\n",
       "      <td>3</td>\n",
       "      <td>12</td>\n",
       "      <td>4</td>\n",
       "      <td>10:36 PM</td>\n",
       "      <td>0:58</td>\n",
       "      <td>Mitchell Free Throw 2 of 2 (2 PTS)</td>\n",
       "      <td>None</td>\n",
       "      <td>None</td>\n",
       "      <td>...</td>\n",
       "      <td>None</td>\n",
       "      <td>None</td>\n",
       "      <td>0</td>\n",
       "      <td>0</td>\n",
       "      <td>None</td>\n",
       "      <td>NaN</td>\n",
       "      <td>None</td>\n",
       "      <td>None</td>\n",
       "      <td>None</td>\n",
       "      <td>1</td>\n",
       "    </tr>\n",
       "    <tr>\n",
       "      <th>483</th>\n",
       "      <td>0042400402</td>\n",
       "      <td>744</td>\n",
       "      <td>1</td>\n",
       "      <td>63</td>\n",
       "      <td>4</td>\n",
       "      <td>10:36 PM</td>\n",
       "      <td>0:50</td>\n",
       "      <td>None</td>\n",
       "      <td>None</td>\n",
       "      <td>McConnell 10' Fadeaway Jumper (11 PTS)</td>\n",
       "      <td>...</td>\n",
       "      <td>None</td>\n",
       "      <td>None</td>\n",
       "      <td>0</td>\n",
       "      <td>0</td>\n",
       "      <td>None</td>\n",
       "      <td>NaN</td>\n",
       "      <td>None</td>\n",
       "      <td>None</td>\n",
       "      <td>None</td>\n",
       "      <td>1</td>\n",
       "    </tr>\n",
       "    <tr>\n",
       "      <th>484</th>\n",
       "      <td>0042400402</td>\n",
       "      <td>745</td>\n",
       "      <td>1</td>\n",
       "      <td>1</td>\n",
       "      <td>4</td>\n",
       "      <td>10:37 PM</td>\n",
       "      <td>0:32</td>\n",
       "      <td>Jay. Williams 24' 3PT Jump Shot (3 PTS) (Mitch...</td>\n",
       "      <td>None</td>\n",
       "      <td>None</td>\n",
       "      <td>...</td>\n",
       "      <td>Thunder</td>\n",
       "      <td>OKC</td>\n",
       "      <td>0</td>\n",
       "      <td>0</td>\n",
       "      <td>None</td>\n",
       "      <td>NaN</td>\n",
       "      <td>None</td>\n",
       "      <td>None</td>\n",
       "      <td>None</td>\n",
       "      <td>1</td>\n",
       "    </tr>\n",
       "    <tr>\n",
       "      <th>485</th>\n",
       "      <td>0042400402</td>\n",
       "      <td>747</td>\n",
       "      <td>1</td>\n",
       "      <td>75</td>\n",
       "      <td>4</td>\n",
       "      <td>10:37 PM</td>\n",
       "      <td>0:23</td>\n",
       "      <td>None</td>\n",
       "      <td>None</td>\n",
       "      <td>Johnson 7' Driving Finger Roll Layup (2 PTS)</td>\n",
       "      <td>...</td>\n",
       "      <td>None</td>\n",
       "      <td>None</td>\n",
       "      <td>0</td>\n",
       "      <td>0</td>\n",
       "      <td>None</td>\n",
       "      <td>NaN</td>\n",
       "      <td>None</td>\n",
       "      <td>None</td>\n",
       "      <td>None</td>\n",
       "      <td>1</td>\n",
       "    </tr>\n",
       "    <tr>\n",
       "      <th>486</th>\n",
       "      <td>0042400402</td>\n",
       "      <td>748</td>\n",
       "      <td>13</td>\n",
       "      <td>0</td>\n",
       "      <td>4</td>\n",
       "      <td>10:38 PM</td>\n",
       "      <td>0:00</td>\n",
       "      <td>None</td>\n",
       "      <td>End of 4th Period (10:38 PM EST)</td>\n",
       "      <td>None</td>\n",
       "      <td>...</td>\n",
       "      <td>None</td>\n",
       "      <td>None</td>\n",
       "      <td>0</td>\n",
       "      <td>0</td>\n",
       "      <td>None</td>\n",
       "      <td>NaN</td>\n",
       "      <td>None</td>\n",
       "      <td>None</td>\n",
       "      <td>None</td>\n",
       "      <td>1</td>\n",
       "    </tr>\n",
       "  </tbody>\n",
       "</table>\n",
       "<p>487 rows × 34 columns</p>\n",
       "</div>"
      ],
      "text/plain": [
       "        GAME_ID  EVENTNUM  EVENTMSGTYPE  EVENTMSGACTIONTYPE  PERIOD  \\\n",
       "0    0042400402         2            12                   0       1   \n",
       "1    0042400402         4            10                   0       1   \n",
       "2    0042400402         7             1                   6       1   \n",
       "3    0042400402         9             1                   1       1   \n",
       "4    0042400402        11             2                   6       1   \n",
       "..          ...       ...           ...                 ...     ...   \n",
       "482  0042400402       743             3                  12       4   \n",
       "483  0042400402       744             1                  63       4   \n",
       "484  0042400402       745             1                   1       4   \n",
       "485  0042400402       747             1                  75       4   \n",
       "486  0042400402       748            13                   0       4   \n",
       "\n",
       "    WCTIMESTRING PCTIMESTRING  \\\n",
       "0        8:08 PM        12:00   \n",
       "1        8:08 PM        12:00   \n",
       "2        8:08 PM        11:46   \n",
       "3        8:08 PM        11:32   \n",
       "4        8:09 PM        11:14   \n",
       "..           ...          ...   \n",
       "482     10:36 PM         0:58   \n",
       "483     10:36 PM         0:50   \n",
       "484     10:37 PM         0:32   \n",
       "485     10:37 PM         0:23   \n",
       "486     10:38 PM         0:00   \n",
       "\n",
       "                                       HOMEDESCRIPTION  \\\n",
       "0                                                 None   \n",
       "1           Jump Ball Holmgren vs. Turner: Tip to Dort   \n",
       "2    Wallace 2' Driving Layup (2 PTS) (Jal. William...   \n",
       "3                                                 None   \n",
       "4                       MISS Holmgren 1' Driving Layup   \n",
       "..                                                 ...   \n",
       "482                 Mitchell Free Throw 2 of 2 (2 PTS)   \n",
       "483                                               None   \n",
       "484  Jay. Williams 24' 3PT Jump Shot (3 PTS) (Mitch...   \n",
       "485                                               None   \n",
       "486                                               None   \n",
       "\n",
       "                    NEUTRALDESCRIPTION  \\\n",
       "0    Start of 1st Period (8:08 PM EST)   \n",
       "1                                 None   \n",
       "2                                 None   \n",
       "3                                 None   \n",
       "4                                 None   \n",
       "..                                 ...   \n",
       "482                               None   \n",
       "483                               None   \n",
       "484                               None   \n",
       "485                               None   \n",
       "486   End of 4th Period (10:38 PM EST)   \n",
       "\n",
       "                                    VISITORDESCRIPTION  ...  \\\n",
       "0                                                 None  ...   \n",
       "1                                                 None  ...   \n",
       "2                                                 None  ...   \n",
       "3    Siakam 26' 3PT Jump Shot (3 PTS) (Haliburton 1...  ...   \n",
       "4                                                 None  ...   \n",
       "..                                                 ...  ...   \n",
       "482                                               None  ...   \n",
       "483             McConnell 10' Fadeaway Jumper (11 PTS)  ...   \n",
       "484                                               None  ...   \n",
       "485       Johnson 7' Driving Finger Roll Layup (2 PTS)  ...   \n",
       "486                                               None  ...   \n",
       "\n",
       "    PLAYER2_TEAM_NICKNAME PLAYER2_TEAM_ABBREVIATION  PERSON3TYPE  PLAYER3_ID  \\\n",
       "0                    None                      None            0           0   \n",
       "1                  Pacers                       IND            4     1629652   \n",
       "2                 Thunder                       OKC            0           0   \n",
       "3                  Pacers                       IND            0           0   \n",
       "4                    None                      None            0           0   \n",
       "..                    ...                       ...          ...         ...   \n",
       "482                  None                      None            0           0   \n",
       "483                  None                      None            0           0   \n",
       "484               Thunder                       OKC            0           0   \n",
       "485                  None                      None            0           0   \n",
       "486                  None                      None            0           0   \n",
       "\n",
       "      PLAYER3_NAME  PLAYER3_TEAM_ID PLAYER3_TEAM_CITY PLAYER3_TEAM_NICKNAME  \\\n",
       "0             None              NaN              None                  None   \n",
       "1    Luguentz Dort     1.610613e+09     Oklahoma City               Thunder   \n",
       "2             None              NaN              None                  None   \n",
       "3             None              NaN              None                  None   \n",
       "4             None              NaN              None                  None   \n",
       "..             ...              ...               ...                   ...   \n",
       "482           None              NaN              None                  None   \n",
       "483           None              NaN              None                  None   \n",
       "484           None              NaN              None                  None   \n",
       "485           None              NaN              None                  None   \n",
       "486           None              NaN              None                  None   \n",
       "\n",
       "    PLAYER3_TEAM_ABBREVIATION  VIDEO_AVAILABLE_FLAG  \n",
       "0                        None                     0  \n",
       "1                         OKC                     1  \n",
       "2                        None                     1  \n",
       "3                        None                     1  \n",
       "4                        None                     1  \n",
       "..                        ...                   ...  \n",
       "482                      None                     1  \n",
       "483                      None                     1  \n",
       "484                      None                     1  \n",
       "485                      None                     1  \n",
       "486                      None                     1  \n",
       "\n",
       "[487 rows x 34 columns]"
      ]
     },
     "execution_count": 10,
     "metadata": {},
     "output_type": "execute_result"
    }
   ],
   "source": [
    "from nba_api.stats.endpoints import playbyplayv2\n",
    "pbp = playbyplayv2.PlayByPlayV2(game_id=g2_id)\n",
    "pbp_df = pbp.get_data_frames()[0]\n",
    "pbp_df # play by play stats "
   ]
  },
  {
   "cell_type": "code",
   "execution_count": 11,
   "metadata": {},
   "outputs": [],
   "source": [
    "from nba_api.stats.endpoints import BoxScoreHustleV2\n",
    "\n",
    "hustle = BoxScoreHustleV2(game_id=g2_id)\n",
    "hustle_df = hustle.get_data_frames()[0]\n",
    "hustle_df.to_csv(\"hustle.csv\")"
   ]
  },
  {
   "cell_type": "code",
   "execution_count": 12,
   "metadata": {},
   "outputs": [],
   "source": [
    "from nba_api.stats.endpoints import WinProbabilityPBP\n",
    "\n",
    "w_pct_pbp = WinProbabilityPBP(game_id=g1_id,run_type=\"each second\")\n",
    "w_pct_pbp_df = w_pct_pbp.get_data_frames()[0]\n",
    "w_pct_pbp_df.to_csv(\"win_prob.csv\")"
   ]
  },
  {
   "cell_type": "code",
   "execution_count": 13,
   "metadata": {},
   "outputs": [],
   "source": [
    "from nba_api.stats.endpoints import CommonTeamRoster, ShotChartDetail\n",
    "\n",
    "team_id     = PAC_id        \n",
    "season      = '2024-25'            # full season string\n",
    "season_type = 'Playoffs'           # 'Regular Season' | 'Pre Season' | 'Playoffs' | 'All Star'\n",
    "game_id     = g2_id        \n",
    "# ────────────────────────────────────────────────────────────────────────────────\n",
    "\n",
    "# 1. Fetch the team’s roster for the season\n",
    "roster = CommonTeamRoster(team_id=team_id, season=season)\n",
    "roster_df = roster.get_data_frames()[0]\n",
    "player_ids = roster_df['PLAYER_ID'].tolist()\n",
    "\n",
    "# 2. Loop through each player and pull their shot chart detail for that game\n",
    "shots_list = []\n",
    "for pid in player_ids:\n",
    "    shot_detail = ShotChartDetail(\n",
    "        context_measure_simple   = 'PTS',\n",
    "        last_n_games             = 0,\n",
    "        league_id                = '00',\n",
    "        season_type_all_star     = season_type,\n",
    "        season_nullable          = season,\n",
    "        team_id                  = 0,\n",
    "        player_id                = pid,\n",
    "        game_id_nullable         = game_id,\n",
    "        date_from_nullable       = '06/08/2025',\n",
    "        date_to_nullable         = '06/08/2025',\n",
    "        game_segment_nullable    = '',\n",
    "        period                   = 0,\n",
    "        outcome_nullable         = '',\n",
    "        location_nullable        = '',\n",
    "        month                    = 0,\n",
    "        vs_conference_nullable   = '',\n",
    "        vs_division_nullable     = '',\n",
    "        opponent_team_id         = 0,\n",
    "        rookie_year_nullable     = '',\n",
    "        season_segment_nullable  = '',\n",
    "        start_period_nullable    = '',\n",
    "        end_period_nullable      = '',\n",
    "        start_range_nullable     = '',\n",
    "        end_range_nullable       = '',\n",
    "        range_type_nullable      = '',\n",
    "        point_diff_nullable      = '',\n",
    "        position_nullable        = '',\n",
    "        player_position_nullable = ''\n",
    "    )\n",
    "    # [0] = LeagueAverages, [1] = Shot_Chart_Detail\n",
    "    _, df_shots = shot_detail.get_data_frames()\n",
    "    if not df_shots.empty:\n",
    "        shots_list.append(df_shots)\n",
    "team_shot_detail_df = pd.concat(shots_list, ignore_index=True)"
   ]
  },
  {
   "cell_type": "code",
   "execution_count": 14,
   "metadata": {},
   "outputs": [],
   "source": [
    "from nba_api.stats.endpoints import boxscorefourfactorsv2\n",
    "start_period = 1             # period to start (1 = Q1)\n",
    "end_period   = 4             # period to end (4 = Q4; use 5 for OT if needed)\n",
    "range_type   = 0             # 0 = entire period range\n",
    "start_range  = 0             # seconds into period to start (0 = beginning)\n",
    "end_range    = 0             # seconds into period to end (0 = full period)\n",
    "\n",
    "four_factors = boxscorefourfactorsv2.BoxScoreFourFactorsV2(\n",
    "    game_id    = g2_id,\n",
    "    start_period = start_period,\n",
    "    end_period   = end_period,\n",
    "    range_type   = range_type,\n",
    "    start_range  = start_range,\n",
    "    end_range    = end_range\n",
    ")\n",
    "\n",
    "\n",
    "players_four_factors, teams_four_factors = four_factors.get_data_frames()\n",
    "\n",
    "players_four_factors.to_csv(\"players_four_factors.csv\")"
   ]
  },
  {
   "cell_type": "code",
   "execution_count": 15,
   "metadata": {},
   "outputs": [
    {
     "data": {
      "image/png": "[encoded data removed]",
      "text/plain": [
       "<Figure size 1000x600 with 1 Axes>"
      ]
     },
     "metadata": {},
     "output_type": "display_data"
    }
   ],
   "source": [
    "import matplotlib.pyplot as plt\n",
    "\n",
    "# sort and pick top 10\n",
    "top_scorers = players.sort_values('PTS', ascending=False).head(10)\n",
    "\n",
    "plt.figure(figsize=(10, 6))\n",
    "plt.bar(top_scorers['PLAYER_NAME'], top_scorers['PTS'])\n",
    "plt.xticks(rotation=45, ha='right')\n",
    "plt.title('Top 10 Scorers in Game 2')\n",
    "plt.ylabel('Points')\n",
    "plt.tight_layout()\n",
    "plt.show()"
   ]
  },
  {
   "cell_type": "code",
   "execution_count": 16,
   "metadata": {},
   "outputs": [
    {
     "data": {
      "image/png": "[encoded data removed]",
      "text/plain": [
       "<Figure size 1000x600 with 1 Axes>"
      ]
     },
     "metadata": {},
     "output_type": "display_data"
    }
   ],
   "source": [
    "scores = pbp_df['SCORE'].fillna('0-0').str.split('-', expand=True).astype(int)\n",
    "pbp_df['HOME_PTS'] = scores[0]\n",
    "pbp_df['AWAY_PTS'] = scores[1]\n",
    "\n",
    "# cumulative sum\n",
    "pbp_df['HOME_CUM'] = pbp_df['HOME_PTS'].cummax()\n",
    "pbp_df['AWAY_CUM'] = pbp_df['AWAY_PTS'].cummax()\n",
    "\n",
    "plt.figure(figsize=(10, 6))\n",
    "plt.plot(pbp_df.index, pbp_df['HOME_CUM'], label='OKC', color='#F05333')\n",
    "plt.plot(pbp_df.index, pbp_df['AWAY_CUM'], label='IND', color='#002D62')\n",
    "\n",
    "plt.title('Cumulative Score Through Game 1')\n",
    "plt.xlabel('Play Index')\n",
    "plt.ylabel('Points')\n",
    "plt.legend()\n",
    "plt.tight_layout()\n",
    "plt.show()\n"
   ]
  },
  {
   "cell_type": "code",
   "execution_count": 17,
   "metadata": {},
   "outputs": [
    {
     "data": {
      "image/png": "[encoded data removed]",
      "text/plain": [
       "<Figure size 1000x600 with 1 Axes>"
      ]
     },
     "metadata": {},
     "output_type": "display_data"
    }
   ],
   "source": [
    "# convert to percent (if 0–1 scale)\n",
    "if adv_player_df['TS_PCT'].max() <= 1:\n",
    "    adv_player_df['TS_PCT'] *= 100\n",
    "\n",
    "ts_leaders = adv_player_df.sort_values('TS_PCT', ascending=False).head(8)\n",
    "\n",
    "plt.figure(figsize=(10, 6))\n",
    "plt.bar(ts_leaders['PLAYER_NAME'], ts_leaders['TS_PCT'])\n",
    "plt.xticks(rotation=45, ha='right')\n",
    "plt.title('Top True-Shooting % in Game 1')\n",
    "plt.ylabel('True Shooting %')\n",
    "plt.tight_layout()\n",
    "plt.show()\n"
   ]
  },
  {
   "cell_type": "code",
   "execution_count": 18,
   "metadata": {},
   "outputs": [
    {
     "data": {
      "application/vnd.plotly.v1+json": {
       "config": {
        "plotlyServerURL": "https://plot.ly"
       },
       "data": [
        {
         "alignmentgroup": "True",
         "hovertemplate": "Factor=EFG_PCT<br>TEAM_ABBREVIATION=%{x}<br>Percent=%{y}<extra></extra>",
         "legendgroup": "EFG_PCT",
         "marker": {
          "color": "#636efa",
          "pattern": {
           "shape": ""
          }
         },
         "name": "EFG_PCT",
         "offsetgroup": "EFG_PCT",
         "orientation": "v",
         "showlegend": true,
         "textposition": "auto",
         "type": "bar",
         "x": [
          "OKC",
          "IND"
         ],
         "xaxis": "x",
         "y": [
          57.3,
          53.7
         ],
         "yaxis": "y"
        },
        {
         "alignmentgroup": "True",
         "hovertemplate": "Factor=FTA_RATE<br>TEAM_ABBREVIATION=%{x}<br>Percent=%{y}<extra></extra>",
         "legendgroup": "FTA_RATE",
         "marker": {
          "color": "#EF553B",
          "pattern": {
           "shape": ""
          }
         },
         "name": "FTA_RATE",
         "offsetgroup": "FTA_RATE",
         "orientation": "v",
         "showlegend": true,
         "textposition": "auto",
         "type": "bar",
         "x": [
          "OKC",
          "IND"
         ],
         "xaxis": "x",
         "y": [
          40.2,
          31.7
         ],
         "yaxis": "y"
        },
        {
         "alignmentgroup": "True",
         "hovertemplate": "Factor=TM_TOV_PCT<br>TEAM_ABBREVIATION=%{x}<br>Percent=%{y}<extra></extra>",
         "legendgroup": "TM_TOV_PCT",
         "marker": {
          "color": "#00cc96",
          "pattern": {
           "shape": ""
          }
         },
         "name": "TM_TOV_PCT",
         "offsetgroup": "TM_TOV_PCT",
         "orientation": "v",
         "showlegend": true,
         "textposition": "auto",
         "type": "bar",
         "x": [
          "OKC",
          "IND"
         ],
         "xaxis": "x",
         "y": [
          14.099999999999998,
          14.799999999999999
         ],
         "yaxis": "y"
        },
        {
         "alignmentgroup": "True",
         "hovertemplate": "Factor=OREB_PCT<br>TEAM_ABBREVIATION=%{x}<br>Percent=%{y}<extra></extra>",
         "legendgroup": "OREB_PCT",
         "marker": {
          "color": "#ab63fa",
          "pattern": {
           "shape": ""
          }
         },
         "name": "OREB_PCT",
         "offsetgroup": "OREB_PCT",
         "orientation": "v",
         "showlegend": true,
         "textposition": "auto",
         "type": "bar",
         "x": [
          "OKC",
          "IND"
         ],
         "xaxis": "x",
         "y": [
          24.4,
          14.6
         ],
         "yaxis": "y"
        }
       ],
       "layout": {
        "barmode": "group",
        "legend": {
         "title": {
          "text": ""
         },
         "tracegroupgap": 0
        },
        "template": {
         "data": {
          "bar": [
           {
            "error_x": {
             "color": "#2a3f5f"
            },
            "error_y": {
             "color": "#2a3f5f"
            },
            "marker": {
             "line": {
              "color": "#E5ECF6",
              "width": 0.5
             },
             "pattern": {
              "fillmode": "overlay",
              "size": 10,
              "solidity": 0.2
             }
            },
            "type": "bar"
           }
          ],
          "barpolar": [
           {
            "marker": {
             "line": {
              "color": "#E5ECF6",
              "width": 0.5
             },
             "pattern": {
              "fillmode": "overlay",
              "size": 10,
              "solidity": 0.2
             }
            },
            "type": "barpolar"
           }
          ],
          "carpet": [
           {
            "aaxis": {
             "endlinecolor": "#2a3f5f",
             "gridcolor": "white",
             "linecolor": "white",
             "minorgridcolor": "white",
             "startlinecolor": "#2a3f5f"
            },
            "baxis": {
             "endlinecolor": "#2a3f5f",
             "gridcolor": "white",
             "linecolor": "white",
             "minorgridcolor": "white",
             "startlinecolor": "#2a3f5f"
            },
            "type": "carpet"
           }
          ],
          "choropleth": [
           {
            "colorbar": {
             "outlinewidth": 0,
             "ticks": ""
            },
            "type": "choropleth"
           }
          ],
          "contour": [
           {
            "colorbar": {
             "outlinewidth": 0,
             "ticks": ""
            },
            "colorscale": [
             [
              0,
              "#0d0887"
             ],
             [
              0.1111111111111111,
              "#46039f"
             ],
             [
              0.2222222222222222,
              "#7201a8"
             ],
             [
              0.3333333333333333,
              "#9c179e"
             ],
             [
              0.4444444444444444,
              "#bd3786"
             ],
             [
              0.5555555555555556,
              "#d8576b"
             ],
             [
              0.6666666666666666,
              "#ed7953"
             ],
             [
              0.7777777777777778,
              "#fb9f3a"
             ],
             [
              0.8888888888888888,
              "#fdca26"
             ],
             [
              1,
              "#f0f921"
             ]
            ],
            "type": "contour"
           }
          ],
          "contourcarpet": [
           {
            "colorbar": {
             "outlinewidth": 0,
             "ticks": ""
            },
            "type": "contourcarpet"
           }
          ],
          "heatmap": [
           {
            "colorbar": {
             "outlinewidth": 0,
             "ticks": ""
            },
            "colorscale": [
             [
              0,
              "#0d0887"
             ],
             [
              0.1111111111111111,
              "#46039f"
             ],
             [
              0.2222222222222222,
              "#7201a8"
             ],
             [
              0.3333333333333333,
              "#9c179e"
             ],
             [
              0.4444444444444444,
              "#bd3786"
             ],
             [
              0.5555555555555556,
              "#d8576b"
             ],
             [
              0.6666666666666666,
              "#ed7953"
             ],
             [
              0.7777777777777778,
              "#fb9f3a"
             ],
             [
              0.8888888888888888,
              "#fdca26"
             ],
             [
              1,
              "#f0f921"
             ]
            ],
            "type": "heatmap"
           }
          ],
          "heatmapgl": [
           {
            "colorbar": {
             "outlinewidth": 0,
             "ticks": ""
            },
            "colorscale": [
             [
              0,
              "#0d0887"
             ],
             [
              0.1111111111111111,
              "#46039f"
             ],
             [
              0.2222222222222222,
              "#7201a8"
             ],
             [
              0.3333333333333333,
              "#9c179e"
             ],
             [
              0.4444444444444444,
              "#bd3786"
             ],
             [
              0.5555555555555556,
              "#d8576b"
             ],
             [
              0.6666666666666666,
              "#ed7953"
             ],
             [
              0.7777777777777778,
              "#fb9f3a"
             ],
             [
              0.8888888888888888,
              "#fdca26"
             ],
             [
              1,
              "#f0f921"
             ]
            ],
            "type": "heatmapgl"
           }
          ],
          "histogram": [
           {
            "marker": {
             "pattern": {
              "fillmode": "overlay",
              "size": 10,
              "solidity": 0.2
             }
            },
            "type": "histogram"
           }
          ],
          "histogram2d": [
           {
            "colorbar": {
             "outlinewidth": 0,
             "ticks": ""
            },
            "colorscale": [
             [
              0,
              "#0d0887"
             ],
             [
              0.1111111111111111,
              "#46039f"
             ],
             [
              0.2222222222222222,
              "#7201a8"
             ],
             [
              0.3333333333333333,
              "#9c179e"
             ],
             [
              0.4444444444444444,
              "#bd3786"
             ],
             [
              0.5555555555555556,
              "#d8576b"
             ],
             [
              0.6666666666666666,
              "#ed7953"
             ],
             [
              0.7777777777777778,
              "#fb9f3a"
             ],
             [
              0.8888888888888888,
              "#fdca26"
             ],
             [
              1,
              "#f0f921"
             ]
            ],
            "type": "histogram2d"
           }
          ],
          "histogram2dcontour": [
           {
            "colorbar": {
             "outlinewidth": 0,
             "ticks": ""
            },
            "colorscale": [
             [
              0,
              "#0d0887"
             ],
             [
              0.1111111111111111,
              "#46039f"
             ],
             [
              0.2222222222222222,
              "#7201a8"
             ],
             [
              0.3333333333333333,
              "#9c179e"
             ],
             [
              0.4444444444444444,
              "#bd3786"
             ],
             [
              0.5555555555555556,
              "#d8576b"
             ],
             [
              0.6666666666666666,
              "#ed7953"
             ],
             [
              0.7777777777777778,
              "#fb9f3a"
             ],
             [
              0.8888888888888888,
              "#fdca26"
             ],
             [
              1,
              "#f0f921"
             ]
            ],
            "type": "histogram2dcontour"
           }
          ],
          "mesh3d": [
           {
            "colorbar": {
             "outlinewidth": 0,
             "ticks": ""
            },
            "type": "mesh3d"
           }
          ],
          "parcoords": [
           {
            "line": {
             "colorbar": {
              "outlinewidth": 0,
              "ticks": ""
             }
            },
            "type": "parcoords"
           }
          ],
          "pie": [
           {
            "automargin": true,
            "type": "pie"
           }
          ],
          "scatter": [
           {
            "fillpattern": {
             "fillmode": "overlay",
             "size": 10,
             "solidity": 0.2
            },
            "type": "scatter"
           }
          ],
          "scatter3d": [
           {
            "line": {
             "colorbar": {
              "outlinewidth": 0,
              "ticks": ""
             }
            },
            "marker": {
             "colorbar": {
              "outlinewidth": 0,
              "ticks": ""
             }
            },
            "type": "scatter3d"
           }
          ],
          "scattercarpet": [
           {
            "marker": {
             "colorbar": {
              "outlinewidth": 0,
              "ticks": ""
             }
            },
            "type": "scattercarpet"
           }
          ],
          "scattergeo": [
           {
            "marker": {
             "colorbar": {
              "outlinewidth": 0,
              "ticks": ""
             }
            },
            "type": "scattergeo"
           }
          ],
          "scattergl": [
           {
            "marker": {
             "colorbar": {
              "outlinewidth": 0,
              "ticks": ""
             }
            },
            "type": "scattergl"
           }
          ],
          "scattermapbox": [
           {
            "marker": {
             "colorbar": {
              "outlinewidth": 0,
              "ticks": ""
             }
            },
            "type": "scattermapbox"
           }
          ],
          "scatterpolar": [
           {
            "marker": {
             "colorbar": {
              "outlinewidth": 0,
              "ticks": ""
             }
            },
            "type": "scatterpolar"
           }
          ],
          "scatterpolargl": [
           {
            "marker": {
             "colorbar": {
              "outlinewidth": 0,
              "ticks": ""
             }
            },
            "type": "scatterpolargl"
           }
          ],
          "scatterternary": [
           {
            "marker": {
             "colorbar": {
              "outlinewidth": 0,
              "ticks": ""
             }
            },
            "type": "scatterternary"
           }
          ],
          "surface": [
           {
            "colorbar": {
             "outlinewidth": 0,
             "ticks": ""
            },
            "colorscale": [
             [
              0,
              "#0d0887"
             ],
             [
              0.1111111111111111,
              "#46039f"
             ],
             [
              0.2222222222222222,
              "#7201a8"
             ],
             [
              0.3333333333333333,
              "#9c179e"
             ],
             [
              0.4444444444444444,
              "#bd3786"
             ],
             [
              0.5555555555555556,
              "#d8576b"
             ],
             [
              0.6666666666666666,
              "#ed7953"
             ],
             [
              0.7777777777777778,
              "#fb9f3a"
             ],
             [
              0.8888888888888888,
              "#fdca26"
             ],
             [
              1,
              "#f0f921"
             ]
            ],
            "type": "surface"
           }
          ],
          "table": [
           {
            "cells": {
             "fill": {
              "color": "#EBF0F8"
             },
             "line": {
              "color": "white"
             }
            },
            "header": {
             "fill": {
              "color": "#C8D4E3"
             },
             "line": {
              "color": "white"
             }
            },
            "type": "table"
           }
          ]
         },
         "layout": {
          "annotationdefaults": {
           "arrowcolor": "#2a3f5f",
           "arrowhead": 0,
           "arrowwidth": 1
          },
          "autotypenumbers": "strict",
          "coloraxis": {
           "colorbar": {
            "outlinewidth": 0,
            "ticks": ""
           }
          },
          "colorscale": {
           "diverging": [
            [
             0,
             "#8e0152"
            ],
            [
             0.1,
             "#c51b7d"
            ],
            [
             0.2,
             "#de77ae"
            ],
            [
             0.3,
             "#f1b6da"
            ],
            [
             0.4,
             "#fde0ef"
            ],
            [
             0.5,
             "#f7f7f7"
            ],
            [
             0.6,
             "#e6f5d0"
            ],
            [
             0.7,
             "#b8e186"
            ],
            [
             0.8,
             "#7fbc41"
            ],
            [
             0.9,
             "#4d9221"
            ],
            [
             1,
             "#276419"
            ]
           ],
           "sequential": [
            [
             0,
             "#0d0887"
            ],
            [
             0.1111111111111111,
             "#46039f"
            ],
            [
             0.2222222222222222,
             "#7201a8"
            ],
            [
             0.3333333333333333,
             "#9c179e"
            ],
            [
             0.4444444444444444,
             "#bd3786"
            ],
            [
             0.5555555555555556,
             "#d8576b"
            ],
            [
             0.6666666666666666,
             "#ed7953"
            ],
            [
             0.7777777777777778,
             "#fb9f3a"
            ],
            [
             0.8888888888888888,
             "#fdca26"
            ],
            [
             1,
             "#f0f921"
            ]
           ],
           "sequentialminus": [
            [
             0,
             "#0d0887"
            ],
            [
             0.1111111111111111,
             "#46039f"
            ],
            [
             0.2222222222222222,
             "#7201a8"
            ],
            [
             0.3333333333333333,
             "#9c179e"
            ],
            [
             0.4444444444444444,
             "#bd3786"
            ],
            [
             0.5555555555555556,
             "#d8576b"
            ],
            [
             0.6666666666666666,
             "#ed7953"
            ],
            [
             0.7777777777777778,
             "#fb9f3a"
            ],
            [
             0.8888888888888888,
             "#fdca26"
            ],
            [
             1,
             "#f0f921"
            ]
           ]
          },
          "colorway": [
           "#636efa",
           "#EF553B",
           "#00cc96",
           "#ab63fa",
           "#FFA15A",
           "#19d3f3",
           "#FF6692",
           "#B6E880",
           "#FF97FF",
           "#FECB52"
          ],
          "font": {
           "color": "#2a3f5f"
          },
          "geo": {
           "bgcolor": "white",
           "lakecolor": "white",
           "landcolor": "#E5ECF6",
           "showlakes": true,
           "showland": true,
           "subunitcolor": "white"
          },
          "hoverlabel": {
           "align": "left"
          },
          "hovermode": "closest",
          "mapbox": {
           "style": "light"
          },
          "paper_bgcolor": "white",
          "plot_bgcolor": "#E5ECF6",
          "polar": {
           "angularaxis": {
            "gridcolor": "white",
            "linecolor": "white",
            "ticks": ""
           },
           "bgcolor": "#E5ECF6",
           "radialaxis": {
            "gridcolor": "white",
            "linecolor": "white",
            "ticks": ""
           }
          },
          "scene": {
           "xaxis": {
            "backgroundcolor": "#E5ECF6",
            "gridcolor": "white",
            "gridwidth": 2,
            "linecolor": "white",
            "showbackground": true,
            "ticks": "",
            "zerolinecolor": "white"
           },
           "yaxis": {
            "backgroundcolor": "#E5ECF6",
            "gridcolor": "white",
            "gridwidth": 2,
            "linecolor": "white",
            "showbackground": true,
            "ticks": "",
            "zerolinecolor": "white"
           },
           "zaxis": {
            "backgroundcolor": "#E5ECF6",
            "gridcolor": "white",
            "gridwidth": 2,
            "linecolor": "white",
            "showbackground": true,
            "ticks": "",
            "zerolinecolor": "white"
           }
          },
          "shapedefaults": {
           "line": {
            "color": "#2a3f5f"
           }
          },
          "ternary": {
           "aaxis": {
            "gridcolor": "white",
            "linecolor": "white",
            "ticks": ""
           },
           "baxis": {
            "gridcolor": "white",
            "linecolor": "white",
            "ticks": ""
           },
           "bgcolor": "#E5ECF6",
           "caxis": {
            "gridcolor": "white",
            "linecolor": "white",
            "ticks": ""
           }
          },
          "title": {
           "x": 0.05
          },
          "xaxis": {
           "automargin": true,
           "gridcolor": "white",
           "linecolor": "white",
           "ticks": "",
           "title": {
            "standoff": 15
           },
           "zerolinecolor": "white",
           "zerolinewidth": 2
          },
          "yaxis": {
           "automargin": true,
           "gridcolor": "white",
           "linecolor": "white",
           "ticks": "",
           "title": {
            "standoff": 15
           },
           "zerolinecolor": "white",
           "zerolinewidth": 2
          }
         }
        },
        "title": {
         "text": "Team Four-Factors Comparison – Game 1"
        },
        "xaxis": {
         "anchor": "y",
         "domain": [
          0,
          1
         ],
         "title": {
          "text": ""
         }
        },
        "yaxis": {
         "anchor": "x",
         "domain": [
          0,
          1
         ],
         "title": {
          "text": "Percent"
         }
        }
       }
      }
     },
     "metadata": {},
     "output_type": "display_data"
    }
   ],
   "source": [
    "import plotly.express as px\n",
    "\n",
    "# pick the four factors from your DataFrame\n",
    "cols = ['EFG_PCT', 'FTA_RATE', 'TM_TOV_PCT', 'OREB_PCT']\n",
    "df = teams_four_factors.copy()\n",
    "\n",
    "# If these are on a 0–1 scale, convert to percentages\n",
    "for c in cols:\n",
    "    if df[c].max() <= 1:\n",
    "        df[c] *= 100\n",
    "\n",
    "fig = px.bar(\n",
    "    df,\n",
    "    x='TEAM_ABBREVIATION',\n",
    "    y=cols,\n",
    "    barmode='group',\n",
    "    labels={'value':'Percent', 'variable':'Factor'},\n",
    "    title='Team Four-Factors Comparison – Game 1'\n",
    ")\n",
    "fig.update_layout(xaxis_title='', legend_title='')\n",
    "fig.show()\n"
   ]
  },
  {
   "cell_type": "code",
   "execution_count": 19,
   "metadata": {},
   "outputs": [
    {
     "data": {
      "application/vnd.plotly.v1+json": {
       "config": {
        "plotlyServerURL": "https://plot.ly"
       },
       "data": [
        {
         "alignmentgroup": "True",
         "hovertemplate": "variable=EFG_PCT<br>TEAM_ABBREVIATION=%{x}<br>Percent=%{y}<extra></extra>",
         "legendgroup": "EFG_PCT",
         "marker": {
          "color": "#636efa",
          "pattern": {
           "shape": ""
          }
         },
         "name": "Effective Field Goal %",
         "offsetgroup": "EFG_PCT",
         "orientation": "v",
         "showlegend": true,
         "textposition": "auto",
         "type": "bar",
         "x": [
          "OKC",
          "IND"
         ],
         "xaxis": "x",
         "y": [
          57.3,
          53.7
         ],
         "yaxis": "y"
        },
        {
         "alignmentgroup": "True",
         "hovertemplate": "variable=FTA_RATE<br>TEAM_ABBREVIATION=%{x}<br>Percent=%{y}<extra></extra>",
         "legendgroup": "FTA_RATE",
         "marker": {
          "color": "#EF553B",
          "pattern": {
           "shape": ""
          }
         },
         "name": "Free Throws Attempted",
         "offsetgroup": "FTA_RATE",
         "orientation": "v",
         "showlegend": true,
         "textposition": "auto",
         "type": "bar",
         "x": [
          "OKC",
          "IND"
         ],
         "xaxis": "x",
         "y": [
          40.2,
          31.7
         ],
         "yaxis": "y"
        },
        {
         "alignmentgroup": "True",
         "hovertemplate": "variable=TM_TOV_PCT<br>TEAM_ABBREVIATION=%{x}<br>Percent=%{y}<extra></extra>",
         "legendgroup": "TM_TOV_PCT",
         "marker": {
          "color": "#00cc96",
          "pattern": {
           "shape": ""
          }
         },
         "name": "Team Turnover Percentage",
         "offsetgroup": "TM_TOV_PCT",
         "orientation": "v",
         "showlegend": true,
         "textposition": "auto",
         "type": "bar",
         "x": [
          "OKC",
          "IND"
         ],
         "xaxis": "x",
         "y": [
          14.099999999999998,
          14.799999999999999
         ],
         "yaxis": "y"
        },
        {
         "alignmentgroup": "True",
         "hovertemplate": "variable=OREB_PCT<br>TEAM_ABBREVIATION=%{x}<br>Percent=%{y}<extra></extra>",
         "legendgroup": "OREB_PCT",
         "marker": {
          "color": "#ab63fa",
          "pattern": {
           "shape": ""
          }
         },
         "name": "Offensive Rebound Percentage",
         "offsetgroup": "OREB_PCT",
         "orientation": "v",
         "showlegend": true,
         "textposition": "auto",
         "type": "bar",
         "x": [
          "OKC",
          "IND"
         ],
         "xaxis": "x",
         "y": [
          24.4,
          14.6
         ],
         "yaxis": "y"
        }
       ],
       "layout": {
        "barmode": "group",
        "legend": {
         "title": {
          "text": ""
         },
         "tracegroupgap": 0
        },
        "template": {
         "data": {
          "bar": [
           {
            "error_x": {
             "color": "#2a3f5f"
            },
            "error_y": {
             "color": "#2a3f5f"
            },
            "marker": {
             "line": {
              "color": "#E5ECF6",
              "width": 0.5
             },
             "pattern": {
              "fillmode": "overlay",
              "size": 10,
              "solidity": 0.2
             }
            },
            "type": "bar"
           }
          ],
          "barpolar": [
           {
            "marker": {
             "line": {
              "color": "#E5ECF6",
              "width": 0.5
             },
             "pattern": {
              "fillmode": "overlay",
              "size": 10,
              "solidity": 0.2
             }
            },
            "type": "barpolar"
           }
          ],
          "carpet": [
           {
            "aaxis": {
             "endlinecolor": "#2a3f5f",
             "gridcolor": "white",
             "linecolor": "white",
             "minorgridcolor": "white",
             "startlinecolor": "#2a3f5f"
            },
            "baxis": {
             "endlinecolor": "#2a3f5f",
             "gridcolor": "white",
             "linecolor": "white",
             "minorgridcolor": "white",
             "startlinecolor": "#2a3f5f"
            },
            "type": "carpet"
           }
          ],
          "choropleth": [
           {
            "colorbar": {
             "outlinewidth": 0,
             "ticks": ""
            },
            "type": "choropleth"
           }
          ],
          "contour": [
           {
            "colorbar": {
             "outlinewidth": 0,
             "ticks": ""
            },
            "colorscale": [
             [
              0,
              "#0d0887"
             ],
             [
              0.1111111111111111,
              "#46039f"
             ],
             [
              0.2222222222222222,
              "#7201a8"
             ],
             [
              0.3333333333333333,
              "#9c179e"
             ],
             [
              0.4444444444444444,
              "#bd3786"
             ],
             [
              0.5555555555555556,
              "#d8576b"
             ],
             [
              0.6666666666666666,
              "#ed7953"
             ],
             [
              0.7777777777777778,
              "#fb9f3a"
             ],
             [
              0.8888888888888888,
              "#fdca26"
             ],
             [
              1,
              "#f0f921"
             ]
            ],
            "type": "contour"
           }
          ],
          "contourcarpet": [
           {
            "colorbar": {
             "outlinewidth": 0,
             "ticks": ""
            },
            "type": "contourcarpet"
           }
          ],
          "heatmap": [
           {
            "colorbar": {
             "outlinewidth": 0,
             "ticks": ""
            },
            "colorscale": [
             [
              0,
              "#0d0887"
             ],
             [
              0.1111111111111111,
              "#46039f"
             ],
             [
              0.2222222222222222,
              "#7201a8"
             ],
             [
              0.3333333333333333,
              "#9c179e"
             ],
             [
              0.4444444444444444,
              "#bd3786"
             ],
             [
              0.5555555555555556,
              "#d8576b"
             ],
             [
              0.6666666666666666,
              "#ed7953"
             ],
             [
              0.7777777777777778,
              "#fb9f3a"
             ],
             [
              0.8888888888888888,
              "#fdca26"
             ],
             [
              1,
              "#f0f921"
             ]
            ],
            "type": "heatmap"
           }
          ],
          "heatmapgl": [
           {
            "colorbar": {
             "outlinewidth": 0,
             "ticks": ""
            },
            "colorscale": [
             [
              0,
              "#0d0887"
             ],
             [
              0.1111111111111111,
              "#46039f"
             ],
             [
              0.2222222222222222,
              "#7201a8"
             ],
             [
              0.3333333333333333,
              "#9c179e"
             ],
             [
              0.4444444444444444,
              "#bd3786"
             ],
             [
              0.5555555555555556,
              "#d8576b"
             ],
             [
              0.6666666666666666,
              "#ed7953"
             ],
             [
              0.7777777777777778,
              "#fb9f3a"
             ],
             [
              0.8888888888888888,
              "#fdca26"
             ],
             [
              1,
              "#f0f921"
             ]
            ],
            "type": "heatmapgl"
           }
          ],
          "histogram": [
           {
            "marker": {
             "pattern": {
              "fillmode": "overlay",
              "size": 10,
              "solidity": 0.2
             }
            },
            "type": "histogram"
           }
          ],
          "histogram2d": [
           {
            "colorbar": {
             "outlinewidth": 0,
             "ticks": ""
            },
            "colorscale": [
             [
              0,
              "#0d0887"
             ],
             [
              0.1111111111111111,
              "#46039f"
             ],
             [
              0.2222222222222222,
              "#7201a8"
             ],
             [
              0.3333333333333333,
              "#9c179e"
             ],
             [
              0.4444444444444444,
              "#bd3786"
             ],
             [
              0.5555555555555556,
              "#d8576b"
             ],
             [
              0.6666666666666666,
              "#ed7953"
             ],
             [
              0.7777777777777778,
              "#fb9f3a"
             ],
             [
              0.8888888888888888,
              "#fdca26"
             ],
             [
              1,
              "#f0f921"
             ]
            ],
            "type": "histogram2d"
           }
          ],
          "histogram2dcontour": [
           {
            "colorbar": {
             "outlinewidth": 0,
             "ticks": ""
            },
            "colorscale": [
             [
              0,
              "#0d0887"
             ],
             [
              0.1111111111111111,
              "#46039f"
             ],
             [
              0.2222222222222222,
              "#7201a8"
             ],
             [
              0.3333333333333333,
              "#9c179e"
             ],
             [
              0.4444444444444444,
              "#bd3786"
             ],
             [
              0.5555555555555556,
              "#d8576b"
             ],
             [
              0.6666666666666666,
              "#ed7953"
             ],
             [
              0.7777777777777778,
              "#fb9f3a"
             ],
             [
              0.8888888888888888,
              "#fdca26"
             ],
             [
              1,
              "#f0f921"
             ]
            ],
            "type": "histogram2dcontour"
           }
          ],
          "mesh3d": [
           {
            "colorbar": {
             "outlinewidth": 0,
             "ticks": ""
            },
            "type": "mesh3d"
           }
          ],
          "parcoords": [
           {
            "line": {
             "colorbar": {
              "outlinewidth": 0,
              "ticks": ""
             }
            },
            "type": "parcoords"
           }
          ],
          "pie": [
           {
            "automargin": true,
            "type": "pie"
           }
          ],
          "scatter": [
           {
            "fillpattern": {
             "fillmode": "overlay",
             "size": 10,
             "solidity": 0.2
            },
            "type": "scatter"
           }
          ],
          "scatter3d": [
           {
            "line": {
             "colorbar": {
              "outlinewidth": 0,
              "ticks": ""
             }
            },
            "marker": {
             "colorbar": {
              "outlinewidth": 0,
              "ticks": ""
             }
            },
            "type": "scatter3d"
           }
          ],
          "scattercarpet": [
           {
            "marker": {
             "colorbar": {
              "outlinewidth": 0,
              "ticks": ""
             }
            },
            "type": "scattercarpet"
           }
          ],
          "scattergeo": [
           {
            "marker": {
             "colorbar": {
              "outlinewidth": 0,
              "ticks": ""
             }
            },
            "type": "scattergeo"
           }
          ],
          "scattergl": [
           {
            "marker": {
             "colorbar": {
              "outlinewidth": 0,
              "ticks": ""
             }
            },
            "type": "scattergl"
           }
          ],
          "scattermapbox": [
           {
            "marker": {
             "colorbar": {
              "outlinewidth": 0,
              "ticks": ""
             }
            },
            "type": "scattermapbox"
           }
          ],
          "scatterpolar": [
           {
            "marker": {
             "colorbar": {
              "outlinewidth": 0,
              "ticks": ""
             }
            },
            "type": "scatterpolar"
           }
          ],
          "scatterpolargl": [
           {
            "marker": {
             "colorbar": {
              "outlinewidth": 0,
              "ticks": ""
             }
            },
            "type": "scatterpolargl"
           }
          ],
          "scatterternary": [
           {
            "marker": {
             "colorbar": {
              "outlinewidth": 0,
              "ticks": ""
             }
            },
            "type": "scatterternary"
           }
          ],
          "surface": [
           {
            "colorbar": {
             "outlinewidth": 0,
             "ticks": ""
            },
            "colorscale": [
             [
              0,
              "#0d0887"
             ],
             [
              0.1111111111111111,
              "#46039f"
             ],
             [
              0.2222222222222222,
              "#7201a8"
             ],
             [
              0.3333333333333333,
              "#9c179e"
             ],
             [
              0.4444444444444444,
              "#bd3786"
             ],
             [
              0.5555555555555556,
              "#d8576b"
             ],
             [
              0.6666666666666666,
              "#ed7953"
             ],
             [
              0.7777777777777778,
              "#fb9f3a"
             ],
             [
              0.8888888888888888,
              "#fdca26"
             ],
             [
              1,
              "#f0f921"
             ]
            ],
            "type": "surface"
           }
          ],
          "table": [
           {
            "cells": {
             "fill": {
              "color": "#EBF0F8"
             },
             "line": {
              "color": "white"
             }
            },
            "header": {
             "fill": {
              "color": "#C8D4E3"
             },
             "line": {
              "color": "white"
             }
            },
            "type": "table"
           }
          ]
         },
         "layout": {
          "annotationdefaults": {
           "arrowcolor": "#2a3f5f",
           "arrowhead": 0,
           "arrowwidth": 1
          },
          "autotypenumbers": "strict",
          "coloraxis": {
           "colorbar": {
            "outlinewidth": 0,
            "ticks": ""
           }
          },
          "colorscale": {
           "diverging": [
            [
             0,
             "#8e0152"
            ],
            [
             0.1,
             "#c51b7d"
            ],
            [
             0.2,
             "#de77ae"
            ],
            [
             0.3,
             "#f1b6da"
            ],
            [
             0.4,
             "#fde0ef"
            ],
            [
             0.5,
             "#f7f7f7"
            ],
            [
             0.6,
             "#e6f5d0"
            ],
            [
             0.7,
             "#b8e186"
            ],
            [
             0.8,
             "#7fbc41"
            ],
            [
             0.9,
             "#4d9221"
            ],
            [
             1,
             "#276419"
            ]
           ],
           "sequential": [
            [
             0,
             "#0d0887"
            ],
            [
             0.1111111111111111,
             "#46039f"
            ],
            [
             0.2222222222222222,
             "#7201a8"
            ],
            [
             0.3333333333333333,
             "#9c179e"
            ],
            [
             0.4444444444444444,
             "#bd3786"
            ],
            [
             0.5555555555555556,
             "#d8576b"
            ],
            [
             0.6666666666666666,
             "#ed7953"
            ],
            [
             0.7777777777777778,
             "#fb9f3a"
            ],
            [
             0.8888888888888888,
             "#fdca26"
            ],
            [
             1,
             "#f0f921"
            ]
           ],
           "sequentialminus": [
            [
             0,
             "#0d0887"
            ],
            [
             0.1111111111111111,
             "#46039f"
            ],
            [
             0.2222222222222222,
             "#7201a8"
            ],
            [
             0.3333333333333333,
             "#9c179e"
            ],
            [
             0.4444444444444444,
             "#bd3786"
            ],
            [
             0.5555555555555556,
             "#d8576b"
            ],
            [
             0.6666666666666666,
             "#ed7953"
            ],
            [
             0.7777777777777778,
             "#fb9f3a"
            ],
            [
             0.8888888888888888,
             "#fdca26"
            ],
            [
             1,
             "#f0f921"
            ]
           ]
          },
          "colorway": [
           "#636efa",
           "#EF553B",
           "#00cc96",
           "#ab63fa",
           "#FFA15A",
           "#19d3f3",
           "#FF6692",
           "#B6E880",
           "#FF97FF",
           "#FECB52"
          ],
          "font": {
           "color": "#2a3f5f"
          },
          "geo": {
           "bgcolor": "white",
           "lakecolor": "white",
           "landcolor": "#E5ECF6",
           "showlakes": true,
           "showland": true,
           "subunitcolor": "white"
          },
          "hoverlabel": {
           "align": "left"
          },
          "hovermode": "closest",
          "mapbox": {
           "style": "light"
          },
          "paper_bgcolor": "white",
          "plot_bgcolor": "#E5ECF6",
          "polar": {
           "angularaxis": {
            "gridcolor": "white",
            "linecolor": "white",
            "ticks": ""
           },
           "bgcolor": "#E5ECF6",
           "radialaxis": {
            "gridcolor": "white",
            "linecolor": "white",
            "ticks": ""
           }
          },
          "scene": {
           "xaxis": {
            "backgroundcolor": "#E5ECF6",
            "gridcolor": "white",
            "gridwidth": 2,
            "linecolor": "white",
            "showbackground": true,
            "ticks": "",
            "zerolinecolor": "white"
           },
           "yaxis": {
            "backgroundcolor": "#E5ECF6",
            "gridcolor": "white",
            "gridwidth": 2,
            "linecolor": "white",
            "showbackground": true,
            "ticks": "",
            "zerolinecolor": "white"
           },
           "zaxis": {
            "backgroundcolor": "#E5ECF6",
            "gridcolor": "white",
            "gridwidth": 2,
            "linecolor": "white",
            "showbackground": true,
            "ticks": "",
            "zerolinecolor": "white"
           }
          },
          "shapedefaults": {
           "line": {
            "color": "#2a3f5f"
           }
          },
          "ternary": {
           "aaxis": {
            "gridcolor": "white",
            "linecolor": "white",
            "ticks": ""
           },
           "baxis": {
            "gridcolor": "white",
            "linecolor": "white",
            "ticks": ""
           },
           "bgcolor": "#E5ECF6",
           "caxis": {
            "gridcolor": "white",
            "linecolor": "white",
            "ticks": ""
           }
          },
          "title": {
           "x": 0.05
          },
          "xaxis": {
           "automargin": true,
           "gridcolor": "white",
           "linecolor": "white",
           "ticks": "",
           "title": {
            "standoff": 15
           },
           "zerolinecolor": "white",
           "zerolinewidth": 2
          },
          "yaxis": {
           "automargin": true,
           "gridcolor": "white",
           "linecolor": "white",
           "ticks": "",
           "title": {
            "standoff": 15
           },
           "zerolinecolor": "white",
           "zerolinewidth": 2
          }
         }
        },
        "title": {
         "text": "Team Four-Factors Comparison – Game 1"
        },
        "xaxis": {
         "anchor": "y",
         "domain": [
          0,
          1
         ],
         "title": {
          "text": ""
         }
        },
        "yaxis": {
         "anchor": "x",
         "domain": [
          0,
          1
         ],
         "title": {
          "text": "Percent"
         }
        }
       }
      }
     },
     "metadata": {},
     "output_type": "display_data"
    },
    {
     "data": {
      "text/plain": [
       "<Figure size 640x480 with 0 Axes>"
      ]
     },
     "metadata": {},
     "output_type": "display_data"
    }
   ],
   "source": [
    "cols = ['EFG_PCT', 'FTA_RATE', 'TM_TOV_PCT', 'OREB_PCT']\n",
    "df = teams_four_factors.copy()\n",
    "\n",
    "# 2. If they’re on a 0–1 scale, convert to 0–100%\n",
    "for c in cols:\n",
    "    if df[c].max() <= 1:\n",
    "        df[c] = df[c] * 100\n",
    "\n",
    "# 3. Define full‐name lookup for the legend\n",
    "full_names = {\n",
    "    'EFG_PCT': 'Effective Field Goal %',\n",
    "    'FTA_RATE': 'Free Throws Attempted',\n",
    "    'TM_TOV_PCT': 'Team Turnover Percentage',\n",
    "    'OREB_PCT': 'Offensive Rebound Percentage'\n",
    "}\n",
    "\n",
    "# 4. Build the bar chart\n",
    "fig = px.bar(\n",
    "    df,\n",
    "    x='TEAM_ABBREVIATION',\n",
    "    y=cols,\n",
    "    barmode='group',\n",
    "    labels={**full_names, 'value': 'Percent'},\n",
    "    title='Team Four-Factors Comparison – Game 1'\n",
    ")\n",
    "\n",
    "# 5. Tidy up axes and legend\n",
    "fig.update_layout(\n",
    "    xaxis_title='',     # drop the x-axis title\n",
    "    legend_title=''     # drop the legend title\n",
    ")\n",
    "\n",
    "# 6. Ensure trace names use the full labels\n",
    "for trace in fig.data:\n",
    "    if trace.name in full_names:\n",
    "        trace.name = full_names[trace.name]\n",
    "\n",
    "# 7. Show the figure\n",
    "fig.show()\n",
    "\n",
    "plt.savefig('four_factors.png') # Saves as PNG"
   ]
  }
 ],
 "metadata": {
  "kernelspec": {
   "display_name": "base",
   "language": "python",
   "name": "python3"
  },
  "language_info": {
   "codemirror_mode": {
    "name": "ipython",
    "version": 3
   },
   "file_extension": ".py",
   "mimetype": "text/x-python",
   "name": "python",
   "nbconvert_exporter": "python",
   "pygments_lexer": "ipython3",
   "version": "3.12.2"
  }
 },
 "nbformat": 4,
 "nbformat_minor": 2
}
